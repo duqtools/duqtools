{
 "cells": [
  {
   "cell_type": "markdown",
   "id": "2ae3284c",
   "metadata": {},
   "source": [
    "# Python API\n",
    "\n",
    "This notebook demonstrates how to set up a Jetto interpretive simulation and run it via duqtools."
   ]
  },
  {
   "cell_type": "code",
   "execution_count": 1,
   "id": "551ccbc0",
   "metadata": {},
   "outputs": [],
   "source": [
    "import logging\n",
    "\n",
    "logging.basicConfig(\n",
    "    level=logging.INFO,\n",
    "    format='%(message)s',\n",
    ")"
   ]
  },
  {
   "cell_type": "markdown",
   "id": "4fdf35e7",
   "metadata": {},
   "source": [
    "Below is an example duqtools config.\n",
    "\n",
    "The example below takes `t_e` (electron temperature) from the template, and multiplies it by 1.1.\n",
    "\n",
    "It also sets a few machine specific parameters (`major_radius`, `b_field`), and adjusts the start (`t_start`) and end time (`t_end`) for the simulation.\n",
    "\n",
    "For more documentation on the parameters, check out the documentation here:\n",
    "https://duqtools.readthedocs.io/en/latest/config/create/"
   ]
  },
  {
   "cell_type": "code",
   "execution_count": 2,
   "id": "0dd5b45b",
   "metadata": {},
   "outputs": [
    {
     "name": "stderr",
     "output_type": "stream",
     "text": [
      "\u001b[33m13:45:22 [WARNING] Python module 'omas' not found. Submodule 'jams' needs it @jams.py:14\u001b[0m\n",
      "Python module 'omas' not found. Submodule 'jams' needs it\n",
      "\u001b[33m13:45:22 [WARNING] Python module 'netCDF4' not found. Submodule 'transp' needs it @transp.py:25\u001b[0m\n",
      "Python module 'netCDF4' not found. Submodule 'transp' needs it\n"
     ]
    }
   ],
   "source": [
    "from duqtools.api import create\n",
    "\n",
    "config = {\n",
    "    'tag': 'data_01',\n",
    "    'create': {\n",
    "        'runs_dir':\n",
    "        '/afs/eufus.eu/user/g/g2ssmee/jetto_runs/duqduq/data_123',\n",
    "        'template':\n",
    "        '/afs/eufus.eu/user/g/g2ssmee/jetto_runs/interpretive_esco02',\n",
    "        'template_data': {\n",
    "            'user': 'g2aho',\n",
    "            'db': 'aug',\n",
    "            'shot': 36982,\n",
    "            'run': 2,\n",
    "        },\n",
    "        'operations': [\n",
    "            {\n",
    "                'variable': 't_e',\n",
    "                'operator': 'multiply',\n",
    "                'value': 1.1,\n",
    "            },\n",
    "            {\n",
    "                'variable': 'major_radius',\n",
    "                'operator': 'copyto',\n",
    "                'value': 165.0,\n",
    "            },\n",
    "            {\n",
    "                'variable': 'b_field',\n",
    "                'operator': 'copyto',\n",
    "                'value': -2.5725,\n",
    "            },\n",
    "            {\n",
    "                'variable': 't_start',\n",
    "                'operator': 'copyto',\n",
    "                'value': 2.875,\n",
    "            },\n",
    "            {\n",
    "                'variable': 't_end',\n",
    "                'operator': 'copyto',\n",
    "                'value': 2.885,\n",
    "            },\n",
    "        ],\n",
    "    },\n",
    "    'system': 'jetto',\n",
    "}"
   ]
  },
  {
   "cell_type": "markdown",
   "id": "0ebabe97",
   "metadata": {},
   "source": [
    "Running `create` will create a new run from the template, copy over the template data, and apply the operations to the data. This will return a dictionary with jobs and runs (`Job` and `Run` objects)."
   ]
  },
  {
   "cell_type": "code",
   "execution_count": 3,
   "id": "6fa8ce89",
   "metadata": {},
   "outputs": [
    {
     "name": "stderr",
     "output_type": "stream",
     "text": [
      "Source data: g2aho/aug/36982/2\n",
      "- \u001b[32mCreating run\u001b[0m : /afs/eufus.eu/user/g/g2ssmee/jetto_runs/duqduq/data_123/run_0000\n",
      "- \u001b[32mCopy ids from template to\u001b[0m : /gss_efgw_work/work/g2ssmee/jetto/runs/duqduq/data_123/run_0000/imasdb/aug/36982/1\n",
      "- \u001b[32mCopying template to\u001b[0m : /afs/eufus.eu/user/g/g2ssmee/jetto_runs/duqduq/data_123/run_0000\n",
      "- \u001b[32mSetting inital condition of\u001b[0m : /gss_efgw_work/work/g2ssmee/jetto/runs/duqduq/data_123/run_0000/imasdb/aug/36982/1\n",
      "Apply operator='multiply' scale_to_error=False variable=IDSVariableModel(ids='core_profiles', path='profiles_1d/*/electrons/temperature', type='IDS-variable', name='t_e', dims=['time', '$rho_tor_norm']) value=1.1\n",
      "Writing data entry: /gss_efgw_work/work/g2ssmee/jetto/runs/duqduq/data_123/run_0000/imasdb/aug/36982/1\n",
      "- \u001b[32mWriting new batchfile\u001b[0m : run_0000\n",
      "- \u001b[32mUpdating imas locations of\u001b[0m : /afs/eufus.eu/user/g/g2ssmee/jetto_runs/duqduq/data_123/run_0000\n",
      "- \u001b[32mWriting runs\u001b[0m : /afs/eufus.eu/g2itmuse/user/g2ssmee/duqtools/docs/examples/runs.yaml\n",
      "- \u001b[32mWriting csv\u001b[0m\n"
     ]
    }
   ],
   "source": [
    "jobs_and_runs = create(config)\n",
    "job, run = jobs_and_runs['run_0000']"
   ]
  },
  {
   "cell_type": "markdown",
   "id": "c167c932",
   "metadata": {},
   "source": [
    "`run` contains some metadata about the run and the locations to the input and output data for the run."
   ]
  },
  {
   "cell_type": "code",
   "execution_count": 4,
   "id": "1b5007a2",
   "metadata": {},
   "outputs": [
    {
     "data": {
      "text/plain": [
       "{'dirname': PosixPath('/afs/eufus.eu/user/g/g2ssmee/jetto_runs/duqduq/data_123/run_0000'),\n",
       " 'shortname': PosixPath('run_0000'),\n",
       " 'data_in': {'relative_location': None,\n",
       "  'user': '/gss_efgw_work/work/g2ssmee/jetto/runs/duqduq/data_123/run_0000/imasdb',\n",
       "  'db': 'aug',\n",
       "  'shot': 36982,\n",
       "  'run': 1},\n",
       " 'data_out': {'relative_location': None,\n",
       "  'user': '/gss_efgw_work/work/g2ssmee/jetto/runs/duqduq/data_123/run_0000/imasdb',\n",
       "  'db': 'aug',\n",
       "  'shot': 36982,\n",
       "  'run': 2},\n",
       " 'operations': [{'operator': 'multiply',\n",
       "   'scale_to_error': False,\n",
       "   'variable': {'ids': 'core_profiles',\n",
       "    'path': 'profiles_1d/*/electrons/temperature',\n",
       "    'type': 'IDS-variable',\n",
       "    'name': 't_e',\n",
       "    'dims': ['time', '$rho_tor_norm']},\n",
       "   'value': 1.1},\n",
       "  {'operator': 'copyto',\n",
       "   'scale_to_error': False,\n",
       "   'variable': {'type': 'jetto-variable',\n",
       "    'name': 'major_radius',\n",
       "    'lookup': {'doc': 'Reference major radius (R0)',\n",
       "     'name': 'major_radius',\n",
       "     'type': 'float',\n",
       "     'keys': [{'file': 'jetto.jset',\n",
       "       'field': 'EquilEscoRefPanel.refMajorRadius'},\n",
       "      {'file': 'jetto.in', 'field': 'RMJ', 'section': 'nlist1'}]}},\n",
       "   'value': 165.0},\n",
       "  {'operator': 'copyto',\n",
       "   'scale_to_error': False,\n",
       "   'variable': {'type': 'jetto-variable',\n",
       "    'name': 'b_field',\n",
       "    'lookup': {'doc': 'B-field (B0)',\n",
       "     'name': 'b_field',\n",
       "     'type': 'float',\n",
       "     'keys': [{'file': 'jetto.jset',\n",
       "       'field': 'EquilEscoRefPanel.BField.ConstValue'}]}},\n",
       "   'value': -2.5725},\n",
       "  {'operator': 'copyto',\n",
       "   'scale_to_error': False,\n",
       "   'variable': {'type': 'jetto-variable', 'name': 't_start', 'lookup': None},\n",
       "   'value': 2.875},\n",
       "  {'operator': 'copyto',\n",
       "   'scale_to_error': False,\n",
       "   'variable': {'type': 'jetto-variable', 'name': 't_end', 'lookup': None},\n",
       "   'value': 2.885}]}"
      ]
     },
     "execution_count": 4,
     "metadata": {},
     "output_type": "execute_result"
    }
   ],
   "source": [
    "run.dict()"
   ]
  },
  {
   "cell_type": "markdown",
   "id": "db0c4c5c",
   "metadata": {},
   "source": [
    "`job` contains information about the status of the job and the locations of the input and output files for the simulation."
   ]
  },
  {
   "cell_type": "code",
   "execution_count": 5,
   "id": "f166243d",
   "metadata": {},
   "outputs": [
    {
     "name": "stdout",
     "output_type": "stream",
     "text": [
      "/gss_efgw_work/work/g2ssmee/jetto/runs/duqduq/data_123/run_0000/jetto.in\n",
      "True\n",
      "/gss_efgw_work/work/g2ssmee/jetto/runs/duqduq/data_123/run_0000/jetto.out\n",
      "False\n",
      "JobStatus.NOSTATUS\n"
     ]
    }
   ],
   "source": [
    "print(job.in_file)\n",
    "print(job.in_file.exists())\n",
    "print(job.out_file)\n",
    "print(job.out_file.exists())\n",
    "print(job.status())"
   ]
  },
  {
   "cell_type": "markdown",
   "id": "74637350",
   "metadata": {},
   "source": [
    "The `job` can be submitted using the configured submit system."
   ]
  },
  {
   "cell_type": "code",
   "execution_count": 6,
   "id": "ebf18af8",
   "metadata": {},
   "outputs": [
    {
     "name": "stderr",
     "output_type": "stream",
     "text": [
      "submitting script via slurm ['sbatch', '/gss_efgw_work/work/g2ssmee/jetto/runs/duqduq/data_123/run_0000/.llcmd']\n",
      "submission returned: b'Submitted batch job 237647\\n'\n"
     ]
    }
   ],
   "source": [
    "job.submit()"
   ]
  },
  {
   "cell_type": "markdown",
   "id": "dd1161fc",
   "metadata": {},
   "source": [
    "Track the status of the job through `job.status()`."
   ]
  },
  {
   "cell_type": "code",
   "execution_count": 7,
   "id": "770879bc",
   "metadata": {
    "scrolled": false
   },
   "outputs": [
    {
     "name": "stdout",
     "output_type": "stream",
     "text": [
      "JobStatus.NOSTATUS\n",
      "      0.00 - no status\n",
      "      1.00 - no status\n",
      "      2.14 - no status\n",
      "      3.14 - no status\n",
      "      4.14 - no status\n",
      "      5.14 - no status\n",
      "      6.15 - no status\n",
      "      7.15 - no status\n",
      "      8.15 - no status\n",
      "      9.15 - no status\n",
      "     11.12 - no status\n",
      "     13.23 - no status\n",
      "     15.03 - running\n",
      "     16.17 - running\n",
      "     17.17 - running\n",
      "     18.17 - running\n",
      "     19.18 - running\n",
      "     20.18 - running\n",
      "     21.18 - running\n",
      "     22.18 - running\n",
      "     23.18 - running\n",
      "     24.18 - running\n",
      "     25.19 - running\n",
      "     26.19 - running\n",
      "     27.19 - running\n",
      "     28.19 - running\n",
      "     29.19 - running\n",
      "     30.19 - running\n",
      "     31.20 - running\n",
      "     32.20 - running\n",
      "     33.20 - running\n",
      "     34.20 - running\n",
      "     35.20 - running\n",
      "     36.20 - running\n",
      "     37.20 - running\n",
      "     38.21 - running\n",
      "JobStatus.COMPLETED\n"
     ]
    }
   ],
   "source": [
    "import time\n",
    "\n",
    "print(job.status())\n",
    "\n",
    "t0 = time.time()\n",
    "\n",
    "while not job.is_done:\n",
    "    t1 = time.time() - t0\n",
    "    print(f'{t1:10.2f} - {job.status()}')\n",
    "    time.sleep(1)\n",
    "\n",
    "print(job.status())"
   ]
  },
  {
   "cell_type": "markdown",
   "id": "63d57416",
   "metadata": {},
   "source": [
    "Check that the run has created some data."
   ]
  },
  {
   "cell_type": "code",
   "execution_count": 8,
   "id": "e31d53ed",
   "metadata": {},
   "outputs": [
    {
     "data": {
      "text/plain": [
       "True"
      ]
     },
     "execution_count": 8,
     "metadata": {},
     "output_type": "execute_result"
    }
   ],
   "source": [
    "run.data_out.exists()"
   ]
  },
  {
   "cell_type": "markdown",
   "id": "c2e6d609",
   "metadata": {},
   "source": [
    "Load the data into an `xarray.Dataset` and do things with it."
   ]
  },
  {
   "cell_type": "code",
   "execution_count": 9,
   "id": "d45faadc",
   "metadata": {},
   "outputs": [
    {
     "data": {
      "text/plain": [
       "<matplotlib.collections.PathCollection at 0x2b93510eb3a0>"
      ]
     },
     "execution_count": 9,
     "metadata": {},
     "output_type": "execute_result"
    },
    {
     "data": {
      "image/png": "[encoded data removed]",
      "text/plain": [
       "<Figure size 640x480 with 1 Axes>"
      ]
     },
     "metadata": {},
     "output_type": "display_data"
    }
   ],
   "source": [
    "ds_out = run.data_out.get_variables(('time', 'rho_tor_norm', 't_e'))\n",
    "\n",
    "ds_out.isel(time=[\n",
    "    0,\n",
    "]).plot.scatter('rho_tor_norm', 't_e', marker='.')"
   ]
  }
 ],
 "metadata": {
  "kernelspec": {
   "display_name": ".venv",
   "language": "python",
   "name": ".venv"
  },
  "language_info": {
   "codemirror_mode": {
    "name": "ipython",
    "version": 3
   },
   "file_extension": ".py",
   "mimetype": "text/x-python",
   "name": "python",
   "nbconvert_exporter": "python",
   "pygments_lexer": "ipython3",
   "version": "3.10.2"
  }
 },
 "nbformat": 4,
 "nbformat_minor": 5
}
