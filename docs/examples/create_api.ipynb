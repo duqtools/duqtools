{
 "cells": [
  {
   "cell_type": "code",
   "execution_count": 1,
   "id": "a59fd9a4",
   "metadata": {},
   "outputs": [],
   "source": [
    "%load_ext autoreload\n",
    "%autoreload 2"
   ]
  },
  {
   "cell_type": "code",
   "execution_count": 2,
   "id": "0dd5b45b",
   "metadata": {},
   "outputs": [
    {
     "name": "stderr",
     "output_type": "stream",
     "text": [
      "\u001b[33m16:28:26 [WARNING] Python module 'omas' not found. Submodule 'jams' needs it @jams.py:14\u001b[0m\n",
      "\u001b[33m16:28:26 [WARNING] Python module 'netCDF4' not found. Submodule 'transp' needs it @transp.py:25\u001b[0m\n",
      "Source data: g2aho/aug/36982/2\n",
      "- \u001b[32mCreating run\u001b[0m : /afs/eufus.eu/user/g/g2ssmee/jetto_runs/duqduq/data_123/run_0000\n",
      "- \u001b[32mCopy ids from template to\u001b[0m : /gss_efgw_work/work/g2ssmee/jetto/runs/duqduq/data_123/run_0000/imasdb/aug/36982/1\n",
      "- \u001b[32mCopying template to\u001b[0m : /afs/eufus.eu/user/g/g2ssmee/jetto_runs/duqduq/data_123/run_0000\n",
      "- \u001b[32mSetting inital condition of\u001b[0m : /gss_efgw_work/work/g2ssmee/jetto/runs/duqduq/data_123/run_0000/imasdb/aug/36982/1\n",
      "- \u001b[32mWriting new batchfile\u001b[0m : run_0000\n",
      "- \u001b[32mUpdating imas locations of\u001b[0m : /afs/eufus.eu/user/g/g2ssmee/jetto_runs/duqduq/data_123/run_0000\n",
      "- \u001b[32mWriting runs\u001b[0m : /afs/eufus.eu/g2itmuse/user/g2ssmee/duqtools/docs/examples/runs.yaml\n",
      "- \u001b[32mWriting csv\u001b[0m\n",
      "- \u001b[32mCopying config to run directory\u001b[0m\n"
     ]
    }
   ],
   "source": [
    "from duqtools.api import create\n",
    "\n",
    "import logging\n",
    "\n",
    "logging.basicConfig(\n",
    "    level=logging.INFO,\n",
    "    format='%(message)s',\n",
    ")\n",
    "\n",
    "config = {\n",
    "    'tag': 'data_01',\n",
    "    'create': {\n",
    "        'runs_dir': '/afs/eufus.eu/user/g/g2ssmee/jetto_runs/duqduq/data_123',\n",
    "        'template': '/afs/eufus.eu/user/g/g2ssmee/jetto_runs/interpretive_esco02',\n",
    "        'template_data': {\n",
    "            'user': 'g2aho',\n",
    "            'db': 'aug',\n",
    "            'shot': 36982,\n",
    "            'run': 2,\n",
    "        },\n",
    "        'operations': [\n",
    "            {\n",
    "                'variable': 'major_radius',\n",
    "                'operator': 'copyto',\n",
    "                'value': 165.0,\n",
    "            },\n",
    "            {\n",
    "                'variable': 'b_field',\n",
    "                'operator': 'copyto',\n",
    "                'value': -2.5725,\n",
    "            },\n",
    "            {\n",
    "                'variable': 't_start',\n",
    "                'operator': 'copyto',\n",
    "                'value': 2.875,\n",
    "            },\n",
    "            {\n",
    "                'variable': 't_end',\n",
    "                'operator': 'copyto',\n",
    "                'value': 2.885,\n",
    "            },\n",
    "        ],\n",
    "    },\n",
    "    'system': 'jetto',\n",
    "}\n",
    "\n",
    "job = create(config, force=True)"
   ]
  },
  {
   "cell_type": "code",
   "execution_count": 3,
   "id": "ebf18af8",
   "metadata": {},
   "outputs": [
    {
     "name": "stderr",
     "output_type": "stream",
     "text": [
      "submitting script via slurm ['sbatch', '/gss_efgw_work/work/g2ssmee/jetto/runs/duqduq/data_123/run_0000/.llcmd']\n",
      "submission returned: b'Submitted batch job 235270\\n'\n"
     ]
    }
   ],
   "source": [
    "job.submit()"
   ]
  },
  {
   "cell_type": "code",
   "execution_count": 4,
   "id": "770879bc",
   "metadata": {},
   "outputs": [
    {
     "name": "stdout",
     "output_type": "stream",
     "text": [
      "      0.00 - no status\n",
      "      1.00 - no status\n",
      "      2.00 - no status\n",
      "      3.01 - no status\n",
      "      4.01 - no status\n",
      "      5.01 - no status\n",
      "      6.02 - no status\n",
      "      7.02 - no status\n",
      "      8.02 - no status\n",
      "      9.02 - no status\n",
      "     10.11 - no status\n",
      "     11.23 - no status\n",
      "     12.38 - running\n",
      "     13.39 - running\n",
      "     14.39 - running\n",
      "     15.39 - running\n",
      "     16.39 - running\n",
      "     17.39 - running\n",
      "     18.40 - running\n",
      "     19.40 - running\n",
      "     20.40 - running\n",
      "     21.40 - running\n",
      "     22.40 - running\n",
      "     23.40 - running\n",
      "     24.40 - running\n",
      "     25.41 - running\n",
      "     26.41 - running\n",
      "     27.41 - running\n",
      "     28.41 - running\n",
      "JobStatus.COMPLETED\n"
     ]
    }
   ],
   "source": [
    "import time\n",
    "\n",
    "t0 = time.time()\n",
    "\n",
    "while not job.status() in ('failed', 'completed'):\n",
    "    t1 = time.time() - t0\n",
    "    print(f'{t1:10.2f} - {job.status()}')\n",
    "    time.sleep(1)\n",
    "\n",
    "print(job.status())"
   ]
  }
 ],
 "metadata": {
  "kernelspec": {
   "display_name": ".venv",
   "language": "python",
   "name": ".venv"
  },
  "language_info": {
   "codemirror_mode": {
    "name": "ipython",
    "version": 3
   },
   "file_extension": ".py",
   "mimetype": "text/x-python",
   "name": "python",
   "nbconvert_exporter": "python",
   "pygments_lexer": "ipython3",
   "version": "3.10.2"
  }
 },
 "nbformat": 4,
 "nbformat_minor": 5
}
