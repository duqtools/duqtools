{
 "cells": [
  {
   "cell_type": "code",
   "execution_count": null,
   "id": "ceeb08fb",
   "metadata": {},
   "outputs": [],
   "source": [
    "%load_ext autoreload\n",
    "%autoreload 2"
   ]
  },
  {
   "cell_type": "markdown",
   "id": "72185562",
   "metadata": {},
   "source": [
    "# Working with IMAS files\n",
    "\n",
    "This example shows how *duqtools* can be used to manipulate IMAS data using `ImasHandle` and `IDSMapping`."
   ]
  },
  {
   "cell_type": "markdown",
   "id": "b1b1de4b",
   "metadata": {},
   "source": [
    "## Copying data\n",
    "\n",
    "This example shows how *duqtools* can be used to copy data."
   ]
  },
  {
   "cell_type": "code",
   "execution_count": null,
   "id": "1fdeeb08",
   "metadata": {},
   "outputs": [],
   "source": [
    "from duqtools.api import ImasHandle"
   ]
  },
  {
   "cell_type": "markdown",
   "id": "0c80ebaa",
   "metadata": {},
   "source": [
    "First, we construct and Imas handle, consisting of the user name, database (sometimes referred to as machine name), shot and run number. Together these form an Imas path that point to some data on the system.\n",
    "\n",
    "We can print the path, and check that the data exists.\n",
    "\n",
    "Note that the user is optional. Duqtools will fill in the current user by default."
   ]
  },
  {
   "cell_type": "code",
   "execution_count": null,
   "id": "40e7479c",
   "metadata": {},
   "outputs": [],
   "source": [
    "handle = ImasHandle(user='g2ssmee', db='jet', shot=94875, run=8000)\n",
    "print(handle.path())\n",
    "handle.exists()"
   ]
  },
  {
   "cell_type": "markdown",
   "id": "6e264b77",
   "metadata": {},
   "source": [
    "Let's say we want to make a copy of this data set to modify. We should construct a new Imas handle to specify the target location. In the next cell, we create the Imas handle from a string instead. Again, the user is optional, so the string `'jet/94875/8888'` would give the same result."
   ]
  },
  {
   "cell_type": "code",
   "execution_count": null,
   "id": "f0e83b91",
   "metadata": {},
   "outputs": [],
   "source": [
    "target = ImasHandle.from_string('g2ssmee/jet/94785/8888')\n",
    "print(target.path())\n",
    "target.exists()"
   ]
  },
  {
   "cell_type": "markdown",
   "id": "84583c6b",
   "metadata": {},
   "source": [
    "The template data can be copied to the new location."
   ]
  },
  {
   "cell_type": "code",
   "execution_count": null,
   "id": "bc5c75d2",
   "metadata": {},
   "outputs": [],
   "source": [
    "handle.copy_data_to(target)\n",
    "target.exists()"
   ]
  },
  {
   "cell_type": "markdown",
   "id": "8194830e",
   "metadata": {},
   "source": [
    "If you are unhappy with the outcome, wecan delete the data using the `ImasHandle.delete()` method. Let's not do that for now."
   ]
  },
  {
   "cell_type": "code",
   "execution_count": null,
   "id": "64945ef7",
   "metadata": {},
   "outputs": [],
   "source": [
    "# target.delete()\n",
    "target.exists()"
   ]
  },
  {
   "cell_type": "markdown",
   "id": "1bf453e8",
   "metadata": {},
   "source": [
    "## Exploring, modifying, and saving data\n",
    "\n",
    "We developed *duqtools* to make it as straightforward as possible to manipulate IDSs. In this section, we show an example of how one may go about doing so.\n",
    "\n",
    "Let's say we want to look at 'core_profiles' > 'profiles_1d' > 't_i_average'.\n",
    "\n",
    "First, we retrieve the 'core_profiles' IDS."
   ]
  },
  {
   "cell_type": "code",
   "execution_count": null,
   "id": "3a348035",
   "metadata": {},
   "outputs": [],
   "source": [
    "cp = target.get('core_profiles')\n",
    "cp"
   ]
  },
  {
   "cell_type": "markdown",
   "id": "676a3bf3",
   "metadata": {},
   "source": [
    "*Duqtools* wraps the IMAS database in a dict-like object, so that the different datasets can be accessed like a dict."
   ]
  },
  {
   "cell_type": "code",
   "execution_count": null,
   "id": "18c72b35",
   "metadata": {},
   "outputs": [],
   "source": [
    "cp['profiles_1d/0/t_i_average']"
   ]
  },
  {
   "cell_type": "code",
   "execution_count": null,
   "id": "36d1712f",
   "metadata": {},
   "outputs": [],
   "source": [
    "cp['profiles_1d/0/t_i_average'] *= 1.1"
   ]
  },
  {
   "cell_type": "markdown",
   "id": "ccbf1710",
   "metadata": {},
   "source": [
    "Once we changed the data, we can sync the changes back to the data file."
   ]
  },
  {
   "cell_type": "code",
   "execution_count": null,
   "id": "fe5873cc",
   "metadata": {},
   "outputs": [],
   "source": [
    "cp.sync(target)"
   ]
  },
  {
   "cell_type": "markdown",
   "id": "d9b17a2c",
   "metadata": {},
   "source": [
    "## Plotting data\n",
    "\n",
    "The example below shows how can plot some data using [matplotlib](https://matplotlib.org)."
   ]
  },
  {
   "cell_type": "code",
   "execution_count": null,
   "id": "ee7886b6",
   "metadata": {},
   "outputs": [],
   "source": [
    "x = cp['profiles_1d/0/grid/rho_tor_norm']\n",
    "y = cp['profiles_1d/0/t_i_average']\n",
    "\n",
    "import matplotlib.pyplot as plt\n",
    "\n",
    "fig, ax = plt.subplots()\n",
    "\n",
    "ax.plot(x, y)\n",
    "ax.set_xlabel('rho_tor_norm')\n",
    "ax.set_ylabel('t_i_average')"
   ]
  }
 ],
 "metadata": {
  "kernelspec": {
   "display_name": "Python 3 (ipykernel)",
   "language": "python",
   "name": "python3"
  },
  "language_info": {
   "codemirror_mode": {
    "name": "ipython",
    "version": 3
   },
   "file_extension": ".py",
   "mimetype": "text/x-python",
   "name": "python",
   "nbconvert_exporter": "python",
   "pygments_lexer": "ipython3",
   "version": "3.7.10"
  }
 },
 "nbformat": 4,
 "nbformat_minor": 5
}
