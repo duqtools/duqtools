{
 "cells": [
  {
   "cell_type": "code",
   "execution_count": 1,
   "id": "ceeb08fb",
   "metadata": {},
   "outputs": [],
   "source": [
    "%load_ext autoreload\n",
    "%autoreload 2"
   ]
  },
  {
   "cell_type": "markdown",
   "id": "72185562",
   "metadata": {},
   "source": [
    "# Working with IMAS files\n",
    "\n",
    "This example shows how *duqtools* can be used to manipulate IMAS data using `ImasHandle` and `IDSMapping`."
   ]
  },
  {
   "cell_type": "markdown",
   "id": "b1b1de4b",
   "metadata": {},
   "source": [
    "## Copying data\n",
    "\n",
    "This example shows how *duqtools* can be used to copy data."
   ]
  },
  {
   "cell_type": "code",
   "execution_count": 2,
   "id": "1fdeeb08",
   "metadata": {},
   "outputs": [],
   "source": [
    "from duqtools.api import ImasHandle"
   ]
  },
  {
   "cell_type": "markdown",
   "id": "0c80ebaa",
   "metadata": {},
   "source": [
    "First, we construct and Imas handle, consisting of the user name, database (sometimes referred to as machine name), shot and run number. Together these form an Imas path that point to some data on the system.\n",
    "\n",
    "We can print the path, and check that the data exists.\n",
    "\n",
    "Note that the user is optional. Duqtools will fill in the current user by default."
   ]
  },
  {
   "cell_type": "code",
   "execution_count": 3,
   "id": "40e7479c",
   "metadata": {},
   "outputs": [
    {
     "name": "stdout",
     "output_type": "stream",
     "text": [
      "/afs/eufus.eu/user/g/g2ssmee/public/imasdb/jet/3/0/ids_948758000.datafile\n"
     ]
    },
    {
     "data": {
      "text/plain": [
       "True"
      ]
     },
     "execution_count": 3,
     "metadata": {},
     "output_type": "execute_result"
    }
   ],
   "source": [
    "handle = ImasHandle(user='g2ssmee', db='jet', shot=94875, run=8000)\n",
    "print(handle.path())\n",
    "handle.exists()"
   ]
  },
  {
   "cell_type": "markdown",
   "id": "6e264b77",
   "metadata": {},
   "source": [
    "Let's say we want to make a copy of this data set to modify. We should construct a new Imas handle to specify the target location. In the next cell, we create the Imas handle from a string instead. Again, the user is optional, so the string `'jet/94875/8888'` would give the same result."
   ]
  },
  {
   "cell_type": "code",
   "execution_count": 4,
   "id": "f0e83b91",
   "metadata": {},
   "outputs": [
    {
     "name": "stdout",
     "output_type": "stream",
     "text": [
      "/afs/eufus.eu/user/g/g2ssmee/public/imasdb/jet/3/0/ids_947858888.datafile\n"
     ]
    },
    {
     "data": {
      "text/plain": [
       "True"
      ]
     },
     "execution_count": 4,
     "metadata": {},
     "output_type": "execute_result"
    }
   ],
   "source": [
    "target = ImasHandle.from_string('g2ssmee/jet/94785/8888')\n",
    "print(target.path())\n",
    "target.exists()"
   ]
  },
  {
   "cell_type": "markdown",
   "id": "84583c6b",
   "metadata": {},
   "source": [
    "The template data can be copied to the new location."
   ]
  },
  {
   "cell_type": "code",
   "execution_count": 5,
   "id": "bc5c75d2",
   "metadata": {},
   "outputs": [
    {
     "name": "stderr",
     "output_type": "stream",
     "text": [
      "- \u001b[32mCopy ids from template to\u001b[0m : g2ssmee/jet/94785/8888\n",
      "INFO:screen:- \u001b[32mCopy ids from template to\u001b[0m : g2ssmee/jet/94785/8888\n"
     ]
    },
    {
     "data": {
      "text/plain": [
       "True"
      ]
     },
     "execution_count": 5,
     "metadata": {},
     "output_type": "execute_result"
    }
   ],
   "source": [
    "handle.copy_data_to(target)\n",
    "target.exists()"
   ]
  },
  {
   "cell_type": "markdown",
   "id": "8194830e",
   "metadata": {},
   "source": [
    "If you are unhappy with the outcome, wecan delete the data using the `ImasHandle.delete()` method. Let's not do that for now."
   ]
  },
  {
   "cell_type": "code",
   "execution_count": 6,
   "id": "64945ef7",
   "metadata": {},
   "outputs": [
    {
     "data": {
      "text/plain": [
       "True"
      ]
     },
     "execution_count": 6,
     "metadata": {},
     "output_type": "execute_result"
    }
   ],
   "source": [
    "# target.delete()\n",
    "target.exists()"
   ]
  },
  {
   "cell_type": "markdown",
   "id": "e09dcc5b",
   "metadata": {},
   "source": [
    "## Local IMAS databases\n",
    "\n",
    "Duqtools is compatible with local imas databases, so you can specify the path to your imasdb directly:"
   ]
  },
  {
   "cell_type": "code",
   "execution_count": 7,
   "id": "eaccfe01",
   "metadata": {},
   "outputs": [
    {
     "name": "stdout",
     "output_type": "stream",
     "text": [
      "/afs/eufus.eu/user/g/g2ssmee/public/imasdb/jet/3/0/ids_948758000.datafile\n"
     ]
    },
    {
     "data": {
      "text/plain": [
       "True"
      ]
     },
     "execution_count": 7,
     "metadata": {},
     "output_type": "execute_result"
    }
   ],
   "source": [
    "handle = ImasHandle(user='/afs/eufus.eu/user/g/g2ssmee/public/imasdb', db='jet', shot=94875, run=8000)\n",
    "print(handle.path())\n",
    "handle.exists()"
   ]
  },
  {
   "cell_type": "markdown",
   "id": "1bf453e8",
   "metadata": {},
   "source": [
    "## Exploring, modifying, and saving data\n",
    "\n",
    "We developed *duqtools* to make it as straightforward as possible to manipulate IDSs. In this section, we show an example of how one may go about doing so.\n",
    "\n",
    "Let's say we want to look at 'core_profiles' > 'profiles_1d' > 't_i_average'.\n",
    "\n",
    "First, we retrieve the 'core_profiles' IDS."
   ]
  },
  {
   "cell_type": "code",
   "execution_count": 8,
   "id": "3a348035",
   "metadata": {},
   "outputs": [
    {
     "data": {
      "text/plain": [
       "IDSMapping(\n",
       "  profiles_1d = ...\n",
       "  vacuum_toroidal_field = ...\n",
       "  time = ...\n",
       ")"
      ]
     },
     "execution_count": 8,
     "metadata": {},
     "output_type": "execute_result"
    }
   ],
   "source": [
    "cp = target.get('core_profiles')\n",
    "cp"
   ]
  },
  {
   "cell_type": "markdown",
   "id": "676a3bf3",
   "metadata": {},
   "source": [
    "*Duqtools* wraps the IMAS database in a dict-like object, so that the different datasets can be accessed like a dict."
   ]
  },
  {
   "cell_type": "code",
   "execution_count": 9,
   "id": "18c72b35",
   "metadata": {},
   "outputs": [
    {
     "data": {
      "text/plain": [
       "array([10873.96082052, 10872.03673416, 10867.81168627, 10857.14694854,\n",
       "       10839.70936357, 10810.41005674, 10768.73609831, 10717.18121687,\n",
       "       10656.83014146, 10587.90629975, 10510.8825408 , 10426.32395967,\n",
       "       10334.37851785, 10235.50941984, 10129.89201314, 10017.95409844,\n",
       "        9899.86968924,  9776.03781595,  9646.63883809,  9512.05793477,\n",
       "        9372.48695856,  9228.30672488,  9079.79858345,  8927.2307248 ,\n",
       "        8771.001231  ,  8611.41002345,  8448.74656226,  8283.47218662,\n",
       "        8115.83427092,  7946.37952659,  7775.362634  ,  7603.26181556,\n",
       "        7430.46655014,  7257.31070955,  7084.25627928,  6911.64950335,\n",
       "        6739.84399765,  6569.20529548,  6399.99075788,  6232.39309061,\n",
       "        6067.04216858,  5904.90863603,  5746.40291772,  5591.66680358,\n",
       "        5440.56835546,  5293.2622794 ,  5151.00788034,  5013.84737283,\n",
       "        4880.92735065,  4752.21217566,  4627.47418283,  4506.80740179,\n",
       "        4390.03306972,  4276.68716968,  4167.13381318,  4061.02844256,\n",
       "        3957.9525705 ,  3857.84875559,  3760.31831585,  3665.19036274,\n",
       "        3572.26780325,  3481.58015413,  3392.99882522,  3306.33913114,\n",
       "        3221.38281571,  3137.80026139,  3055.85629861,  2975.21039141,\n",
       "        2895.6526337 ,  2817.71099145,  2741.48366389,  2666.79272628,\n",
       "        2593.64297709,  2522.08395083,  2452.13261181,  2383.82234115,\n",
       "        2317.14406963,  2251.5531281 ,  2187.1278063 ,  2124.12496133,\n",
       "        2062.07507695,  2001.48957193,  1942.76277079,  1886.27239269,\n",
       "        1831.48816948,  1778.05842728,  1726.6317098 ,  1687.26031293,\n",
       "        1667.55709752,  1668.17721166,  1586.95127615,  1519.66283828,\n",
       "        1469.01982524,  1432.43775006,  1398.52365894,  1346.74496774,\n",
       "        1254.3287541 ,  1108.8514321 ,   917.15362323,   702.3809399 ])"
      ]
     },
     "execution_count": 9,
     "metadata": {},
     "output_type": "execute_result"
    }
   ],
   "source": [
    "cp['profiles_1d/0/t_i_average']"
   ]
  },
  {
   "cell_type": "code",
   "execution_count": 10,
   "id": "36d1712f",
   "metadata": {},
   "outputs": [],
   "source": [
    "cp['profiles_1d/0/t_i_average'] *= 1.1"
   ]
  },
  {
   "cell_type": "markdown",
   "id": "ccbf1710",
   "metadata": {},
   "source": [
    "Once we changed the data, we can sync the changes back to the data file."
   ]
  },
  {
   "cell_type": "code",
   "execution_count": 11,
   "id": "fe5873cc",
   "metadata": {},
   "outputs": [],
   "source": [
    "cp.sync(target)"
   ]
  },
  {
   "cell_type": "markdown",
   "id": "d9b17a2c",
   "metadata": {},
   "source": [
    "## Plotting data\n",
    "\n",
    "The example below shows how can plot some data using [matplotlib](https://matplotlib.org)."
   ]
  },
  {
   "cell_type": "code",
   "execution_count": 12,
   "id": "ee7886b6",
   "metadata": {},
   "outputs": [
    {
     "data": {
      "text/plain": [
       "Text(0, 0.5, 't_i_average')"
      ]
     },
     "execution_count": 12,
     "metadata": {},
     "output_type": "execute_result"
    },
    {
     "data": {
      "image/png": "[encoded data removed]",
      "text/plain": [
       "<Figure size 640x480 with 1 Axes>"
      ]
     },
     "metadata": {},
     "output_type": "display_data"
    }
   ],
   "source": [
    "x = cp['profiles_1d/0/grid/rho_tor_norm']\n",
    "y = cp['profiles_1d/0/t_i_average']\n",
    "\n",
    "import matplotlib.pyplot as plt\n",
    "\n",
    "fig, ax = plt.subplots()\n",
    "\n",
    "ax.plot(x, y)\n",
    "ax.set_xlabel('rho_tor_norm')\n",
    "ax.set_ylabel('t_i_average')"
   ]
  },
  {
   "cell_type": "code",
   "execution_count": null,
   "id": "df9a2d16",
   "metadata": {},
   "outputs": [],
   "source": []
  }
 ],
 "metadata": {
  "kernelspec": {
   "display_name": ".venv",
   "language": "python",
   "name": ".venv"
  },
  "language_info": {
   "codemirror_mode": {
    "name": "ipython",
    "version": 3
   },
   "file_extension": ".py",
   "mimetype": "text/x-python",
   "name": "python",
   "nbconvert_exporter": "python",
   "pygments_lexer": "ipython3",
   "version": "3.10.2"
  }
 },
 "nbformat": 4,
 "nbformat_minor": 5
}
