{
 "cells": [
  {
   "cell_type": "markdown",
   "id": "2e3c1974",
   "metadata": {},
   "source": [
    "# Duqtools\n",
    "\n",
    "This notebook shows how to use [duqtools](https://duqtools.readthedocs.org) to do validation for a single run.\n",
    "\n",
    "It will go over the steps required to do uncertainty quantification from a template data set.\n",
    "\n",
    "We define 2 directories:\n",
    "\n",
    "- **duqtools directory**, this is where the duqtools and UQ config resides. This is also the directory we work in with duqtools.\n",
    "- **run directory**, this is a directory where slurm has access and where all the simulation files and data are stored."
   ]
  },
  {
   "cell_type": "code",
   "execution_count": 1,
   "id": "f513699f",
   "metadata": {},
   "outputs": [],
   "source": [
    "from pathlib import Path\n",
    "duqtools_dir = Path('/afs/eufus.eu/user/g/g2ssmee/duqtools_demo')\n",
    "run_dir = Path('/afs/eufus.eu/user/g/g2ssmee/jetto_runs/duqtools_demo')\n",
    "\n",
    "import os\n",
    "os.chdir(duqtools_dir)"
   ]
  },
  {
   "cell_type": "markdown",
   "id": "a9263477",
   "metadata": {},
   "source": [
    "## `duqtools help`\n",
    "\n",
    "The main interface for duqtools is via the CLI. You can run `duqtools --help` to give a list of available subcommands."
   ]
  },
  {
   "cell_type": "code",
   "execution_count": 2,
   "id": "2b25c2ff",
   "metadata": {},
   "outputs": [
    {
     "name": "stdout",
     "output_type": "stream",
     "text": [
      "Usage: duqtools [OPTIONS] COMMAND [ARGS]...\r\n",
      "\r\n",
      "  For more information, check out the documentation:\r\n",
      "\r\n",
      "  https://duqtools.readthedocs.io\r\n",
      "\r\n",
      "Options:\r\n",
      "  --help  Show this message and exit.\r\n",
      "\r\n",
      "Commands:\r\n",
      "  clean           Delete generated IDS data and the run dir.\r\n",
      "  create          Create the UQ run files.\r\n",
      "  dash            Open dashboard for evaluating IDS data.\r\n",
      "  go              Run create, submit, status, dash in succession.\r\n",
      "  init            Create a default config file.\r\n",
      "  list-variables  List available variables.\r\n",
      "  merge           Merge data sets with error propagation.\r\n",
      "  plot            Plot some IDS data.\r\n",
      "  recreate        Read `runs.yaml` and re-create the given runs.\r\n",
      "  setup           Template substitution for duqtools config.\r\n",
      "  status          Print the status of the UQ runs.\r\n",
      "  submit          Submit the UQ runs.\r\n",
      "  version         Print the version and exit.\r\n",
      "  yolo            Live on the edge, run `duqtools go --force --yes --quiet`.\r\n"
     ]
    }
   ],
   "source": [
    "!duqtools --help"
   ]
  },
  {
   "cell_type": "markdown",
   "id": "f121ca3e",
   "metadata": {},
   "source": [
    "Each of the subcommands has its own help section."
   ]
  },
  {
   "cell_type": "code",
   "execution_count": 3,
   "id": "5a33df9d",
   "metadata": {},
   "outputs": [
    {
     "name": "stdout",
     "output_type": "stream",
     "text": [
      "Usage: duqtools create [OPTIONS]\r\n",
      "\r\n",
      "  Create the UQ run files.\r\n",
      "\r\n",
      "Options:\r\n",
      "  --force  Overwrite existing run directories and IDS data.\r\n",
      "  --help   Show this message and exit.\r\n",
      "\r\n",
      "Common options:\r\n",
      "  --yes               Answer yes to questions automatically.\r\n",
      "  --dry-run           Execute without any side-effects.\r\n",
      "  -q, --quiet         Don't output anything to the screen (except mandatory\r\n",
      "                      prompts).\r\n",
      "  -c, --config TEXT   Path to config.\r\n",
      "  --debug             Enable debug print statements.\r\n",
      "  -l, --logfile TEXT  where to send the logfile, the special values\r\n",
      "                      stderr/stdout will send it there respectively.\r\n"
     ]
    }
   ],
   "source": [
    "!duqtools create --help"
   ]
  },
  {
   "cell_type": "markdown",
   "id": "60552adf",
   "metadata": {},
   "source": [
    "## `duqtools init`\n",
    "\n",
    "This is a tool to give you a generic duqtools config file that can be used as a starting point."
   ]
  },
  {
   "cell_type": "code",
   "execution_count": 4,
   "id": "7c4e5612",
   "metadata": {},
   "outputs": [
    {
     "name": "stdout",
     "output_type": "stream",
     "text": [
      "Refusing to overwrite existing CONFIG, duqtools.yaml, use --force if you really want to\r\n"
     ]
    }
   ],
   "source": [
    "!duqtools init --yes"
   ]
  },
  {
   "cell_type": "markdown",
   "id": "6eb17a1e",
   "metadata": {},
   "source": [
    "`duqtools init` will write `duqtools.yaml` which can be edited with your favourite text editor.\n",
    "\n",
    "Check out the [documentation](https://duqtools.readthedocs.io/en/latest/config/create/) for an overview of what can be configured."
   ]
  },
  {
   "cell_type": "code",
   "execution_count": 5,
   "id": "0f581939",
   "metadata": {},
   "outputs": [],
   "source": [
    "!gedit duqtools.yaml"
   ]
  },
  {
   "cell_type": "markdown",
   "id": "af1b7f5d",
   "metadata": {},
   "source": [
    "## Setup create step\n",
    "\n",
    "Update data in `duqtools.yaml`:\n",
    "\n",
    "```yaml\n",
    "create:\n",
    "  runs_dir: /afs/eufus.eu/user/g/g2ssmee/jetto_runs/duqtools_demo\n",
    "  template: /afs/eufus.eu/user/g/g2ssmee/jetto_runs/interpretive_esco02\n",
    "  template_data:\n",
    "    user: g2aho\n",
    "    db: jet\n",
    "    shot: 90350\n",
    "    run: 2\n",
    "  sampler:\n",
    "    method: latin-hypercube\n",
    "    n_samples: 3\n",
    "  dimensions:\n",
    "    - variable: zeff\n",
    "      operator: multiply\n",
    "      values: [0.8, 0.9, 1.0, 1.1, 1.2]\n",
    "    - variable: t_e\n",
    "      operator: multiply\n",
    "      values: [0.8, 0.9, 1.0, 1.1, 1.2]\n",
    "```"
   ]
  },
  {
   "cell_type": "markdown",
   "id": "55385b3d",
   "metadata": {},
   "source": [
    "## Prepare a new UQ run using `duqtools create`\n",
    "\n",
    "The duqtools config (`duqtools.yaml`) together with the template run and template data can be used as a starting point to create a new UQ run. The example above will sample 3 runs from a matrix of 25 as the basis for the UQ.\n",
    "\n",
    "Running `duqtools create` will create 3 new runs and modify the data according to the specification above."
   ]
  },
  {
   "cell_type": "code",
   "execution_count": 6,
   "id": "a76f8e3e",
   "metadata": {},
   "outputs": [
    {
     "name": "stdout",
     "output_type": "stream",
     "text": [
      "\u001b[33m15:16:53 [WARNING] Python module 'omas' not found. Submodule 'jams' needs it @jams.py:14\u001b[0m\n",
      "\u001b[33m15:16:53 [WARNING] Python module 'netCDF4' not found. Submodule 'transp' needs it @transp.py:25\u001b[0m\n",
      "\n",
      "\u001b[31m\u001b[1mOperations in the Queue:\u001b[0m\n",
      "\u001b[31m\u001b[1m========================\u001b[0m\n",
      "- \u001b[32mCreating run\u001b[0m : /gss_efgw_work/work/g2ssmee/jetto/runs/duqtools_demo/run_0000\n",
      "- \u001b[32mCreating run\u001b[0m : /gss_efgw_work/work/g2ssmee/jetto/runs/duqtools_demo/run_0001\n",
      "- \u001b[32mCreating run\u001b[0m : /gss_efgw_work/work/g2ssmee/jetto/runs/duqtools_demo/run_0002\n",
      "\u001b[31m\u001b[1mApplying Operations\u001b[0m\n",
      "21\n",
      "\n",
      "  0%|                                                    | 0/21 [00:00<?, ?it/s]\u001b[A\n",
      "\u001b[32mCreating run\u001b[0m : /gss_efgw_work/work/g2ssmee/jetto/runs/duqtools_demo/run_0000: \n",
      "Progress:  10%|███▏                              | 2/21 [00:04<00:44,  2.33s/it]\u001b[A\n",
      "Progress:  14%|████▊                             | 3/21 [00:04<00:26,  1.46s/it]\u001b[A\n",
      "Progress:  19%|██████▍                           | 4/21 [00:05<00:19,  1.13s/it]\u001b[A\n",
      "\u001b[32mCreating run\u001b[0m : /gss_efgw_work/work/g2ssmee/jetto/runs/duqtools_demo/run_0001: \n",
      "Progress:  38%|████████████▉                     | 8/21 [00:10<00:16,  1.28s/it]\u001b[A\n",
      "Progress:  43%|██████████████▌                   | 9/21 [00:10<00:12,  1.02s/it]\u001b[A\n",
      "Progress:  48%|███████████████▋                 | 10/21 [00:10<00:09,  1.20it/s]\u001b[A\n",
      "\u001b[32mCreating run\u001b[0m : /gss_efgw_work/work/g2ssmee/jetto/runs/duqtools_demo/run_0002: \n",
      "Progress:  67%|██████████████████████           | 14/21 [00:11<00:03,  1.84it/s]\u001b[A\n",
      "Progress:  71%|███████████████████████▌         | 15/21 [00:12<00:02,  2.15it/s]\u001b[A\n",
      "Progress:  76%|█████████████████████████▏       | 16/21 [00:12<00:02,  2.23it/s]\u001b[A\n",
      "\u001b[32mCreating run\u001b[0m : /gss_efgw_work/work/g2ssmee/jetto/runs/duqtools_demo/run_0002: \n",
      "Progress: 100%|█████████████████████████████████| 21/21 [00:12<00:00,  1.66it/s]\n"
     ]
    }
   ],
   "source": [
    "!duqtools create --yes"
   ]
  },
  {
   "cell_type": "markdown",
   "id": "8f7b067f",
   "metadata": {},
   "source": [
    "## Submit to slurm using `duqtools submit`\n",
    "\n",
    "Use `duqtools submit` to submit the jobs to slurm. This tool will find all jobs (`.llcmd` files in the subdirectories) and submit them to slurm. \n",
    "\n",
    "Use the `--array` option to submit the jobs as a slurm array."
   ]
  },
  {
   "cell_type": "code",
   "execution_count": 7,
   "id": "5511d126",
   "metadata": {},
   "outputs": [
    {
     "name": "stdout",
     "output_type": "stream",
     "text": [
      "\u001b[33m15:17:10 [WARNING] Python module 'omas' not found. Submodule 'jams' needs it @jams.py:14\u001b[0m\n",
      "\u001b[33m15:17:10 [WARNING] Python module 'netCDF4' not found. Submodule 'transp' needs it @transp.py:25\u001b[0m\n",
      "\n",
      "\u001b[31m\u001b[1mOperations in the Queue:\u001b[0m\n",
      "\u001b[31m\u001b[1m========================\u001b[0m\n",
      "- \u001b[32mAdding to array\u001b[0m : Job('/gss_efgw_work/work/g2ssmee/jetto/runs/duqtools_demo/run_0000')\n",
      "- \u001b[32mAdding to array\u001b[0m : Job('/gss_efgw_work/work/g2ssmee/jetto/runs/duqtools_demo/run_0001')\n",
      "- \u001b[32mAdding to array\u001b[0m : Job('/gss_efgw_work/work/g2ssmee/jetto/runs/duqtools_demo/run_0002')\n",
      "- \u001b[32mSubmit single array job\u001b[0m : duqtools_slurm_array.sh\n",
      "\u001b[31m\u001b[1mApplying Operations\u001b[0m\n",
      "4\n",
      "\n",
      "  0%|                                                     | 0/4 [00:00<?, ?it/s]\u001b[A\n",
      "\u001b[32mSubmit single array job\u001b[0m : duqtools_slurm_array.sh:                                      \n",
      "Progress: 100%|███████████████████████████████████| 4/4 [00:00<00:00, 50.03it/s]\n"
     ]
    }
   ],
   "source": [
    "!duqtools submit --array --yes"
   ]
  },
  {
   "cell_type": "markdown",
   "id": "cf9ea182",
   "metadata": {},
   "source": [
    "## `duqtools status`\n",
    "\n",
    "Query the status using `duqtools status`. This essentially parses all the `jetto.status` files in the run directory."
   ]
  },
  {
   "cell_type": "code",
   "execution_count": 8,
   "id": "2c99fe26",
   "metadata": {},
   "outputs": [
    {
     "name": "stdout",
     "output_type": "stream",
     "text": [
      "             JOBID PARTITION     NAME     USER ST       TIME  NODES NODELIST(REASON)\n",
      "          216865_0        gw duqtools  g2ssmee  R       0:04      1 r054c05s04\n",
      "          216865_1        gw duqtools  g2ssmee  R       0:04      1 r054c05s04\n",
      "          216865_2        gw duqtools  g2ssmee  R       0:04      1 r182c14s04\n",
      "\u001b[33m15:17:16 [WARNING] Python module 'omas' not found. Submodule 'jams' needs it @jams.py:14\u001b[0m\n",
      "\u001b[33m15:17:16 [WARNING] Python module 'netCDF4' not found. Submodule 'transp' needs it @transp.py:25\u001b[0m\n",
      "Total number of directories with submit script     : 3\n",
      "Total number of directories with unsubmitted jobs  : 3\n",
      "Total number of directories with status script     : 0\n",
      "Total number of directories with completed status  : 0\n",
      "Total number of directories with failed status     : 0\n",
      "Total number of directories with running status    : 0\n",
      "Total number of directories with unknown status    : 0\n"
     ]
    }
   ],
   "source": [
    "!squeue -u g2ssmee\n",
    "!duqtools status"
   ]
  },
  {
   "cell_type": "markdown",
   "id": "dda65bc0",
   "metadata": {},
   "source": [
    "## Overview of run directory\n",
    "\n",
    "Duqtools writes the data in the directory specified by `run_dir` in `duqtools.yaml`. \n",
    "\n",
    "- `duqtools.yaml` is a copy of the duqtools config\n",
    "- `logs` contains the logs from the slurm array\n",
    "- `runs.yaml` contains the metadata for each of the runs so that they can be reproduced\n",
    "- `run_000{1..3}` are the jetto run directories. There are 3 directories corresponding to `n_samples: 3` in the duqtools config."
   ]
  },
  {
   "cell_type": "code",
   "execution_count": 9,
   "id": "da1886b8",
   "metadata": {},
   "outputs": [
    {
     "name": "stdout",
     "output_type": "stream",
     "text": [
      ".\r\n",
      "├── duqtools.yaml\r\n",
      "├── logs\r\n",
      "├── run_0000\r\n",
      "├── run_0001\r\n",
      "├── run_0002\r\n",
      "└── runs.yaml\r\n",
      "\r\n",
      "4 directories, 2 files\r\n"
     ]
    }
   ],
   "source": [
    "os.chdir(run_dir)\n",
    "!tree -L 1"
   ]
  },
  {
   "cell_type": "markdown",
   "id": "015cf326",
   "metadata": {},
   "source": [
    "A jetto run directory."
   ]
  },
  {
   "cell_type": "code",
   "execution_count": 10,
   "id": "7be5a696",
   "metadata": {
    "scrolled": true
   },
   "outputs": [
    {
     "name": "stdout",
     "output_type": "stream",
     "text": [
      ".\r\n",
      "├── configs\r\n",
      "├── data\r\n",
      "├── duqtools.submit.lock\r\n",
      "├── envs\r\n",
      "├── fort.12\r\n",
      "├── fort.13\r\n",
      "├── fort.21\r\n",
      "├── fort.260 -> jetto.nbip\r\n",
      "├── fort.261 -> jetto.nbip1\r\n",
      "├── fort.262 -> jetto.nbip2\r\n",
      "├── fort.263 -> jetto.nbip3\r\n",
      "├── fort.272 -> jetto.tip\r\n",
      "├── fort.273 -> jetto.ni1p\r\n",
      "├── fort.274 -> jetto.ni2p\r\n",
      "├── fort.275 -> jetto.gasp\r\n",
      "├── fort.278 -> jetto.eqt\r\n",
      "├── fort.280 -> jetto.sadas\r\n",
      "├── fort.29 -> jetto.restart\r\n",
      "├── fort.300 -> jetto.ext\r\n",
      "├── fort.364 -> jetto.beamionsource\r\n",
      "├── fort.40 -> jetto.chksum\r\n",
      "├── fort.400 -> pion.0\r\n",
      "├── fort.401 -> pion.1\r\n",
      "├── fort.402 -> pion.2\r\n",
      "├── fort.406 -> pion.6\r\n",
      "├── fort.407 -> pion.7\r\n",
      "├── fort.419 -> pion.19\r\n",
      "├── fort.420 -> pion.20\r\n",
      "├── fort.45 -> jetto.mhddb\r\n",
      "├── fort.451 -> pion.51\r\n",
      "├── fort.452 -> pion.52\r\n",
      "├── fort.453 -> pion.53\r\n",
      "├── fort.454 -> pion.54\r\n",
      "├── fort.455 -> pion.55\r\n",
      "├── fort.456 -> pion.56\r\n",
      "├── fort.470 -> pion.70\r\n",
      "├── fort.471 -> pion.71\r\n",
      "├── fort.472 -> pion.72\r\n",
      "├── fort.48 -> configs/eigen\r\n",
      "├── fort.491 -> configs/jht\r\n",
      "├── fort.492 -> jetto.jht\r\n",
      "├── fort.493 -> configs/jhp\r\n",
      "├── fort.494 -> jetto.jhp\r\n",
      "├── fort.60 -> jetto.history\r\n",
      "├── fort.604 -> gray_central_ray_coord\r\n",
      "├── fort.608 -> gray_beam_CS\r\n",
      "├── fort.612 -> gray_beam_transv\r\n",
      "├── fort.72 -> jetto.ec\r\n",
      "├── fort.73 -> flistprm\r\n",
      "├── fort.74 -> ntm.print\r\n",
      "├── fort.75 -> ntm.out\r\n",
      "├── fort.76 -> ntm.greout\r\n",
      "├── fort.77 -> jetto.in\r\n",
      "├── fort.78 -> jetto.sgrid\r\n",
      "├── fort.79 -> jetto.str\r\n",
      "├── fort.8 -> jetto.restart\r\n",
      "├── fort.80 -> jetto.sin\r\n",
      "├── fort.81 -> jetto.srestart\r\n",
      "├── fort.82 -> jetto.srestart\r\n",
      "├── fort.84 -> jetto.shistory\r\n",
      "├── fort.87 -> jetto.shistory\r\n",
      "├── fort.88 -> jetto.sout\r\n",
      "├── fort.9 -> jetto.bnd\r\n",
      "├── fort.95 -> jetto.eqfile\r\n",
      "├── fort.96 -> jetto.stat\r\n",
      "├── fort.97 -> jetto.eqdsk_out\r\n",
      "├── fort.98 -> jetto.eqrestart\r\n",
      "├── fort.99 -> jetto.cbank\r\n",
      "├── global_configuration\r\n",
      "├── hcd_batch\r\n",
      "├── hcd_gui\r\n",
      "├── hcd_gui.py\r\n",
      "├── hcd_nogui\r\n",
      "├── helena_bin -> /gss_efgw_work/work/g2fjc/cmg/jams/v220922/depot/helena/bin\r\n",
      "├── imasdb\r\n",
      "├── interface\r\n",
      "├── ionatom -> /gss_efgw_work/work/g2fjc/jintrac/v220922/data/ionatom\r\n",
      "├── jetto.catid\r\n",
      "├── jetto.chksum\r\n",
      "├── jetto.datadir\r\n",
      "├── jetto.eqdsk_out\r\n",
      "├── jetto.eqrestart\r\n",
      "├── jetto.ex\r\n",
      "├── jetto.grill -> configs/lhcd6/jetto.grill\r\n",
      "├── jetto.in\r\n",
      "├── jetto.jse\r\n",
      "├── jetto.jset\r\n",
      "├── jetto.jsp\r\n",
      "├── jetto.jss\r\n",
      "├── jetto.jst\r\n",
      "├── jetto.out\r\n",
      "├── jetto.ray -> configs/lhcd6/jetto.ray\r\n",
      "├── jetto.restart\r\n",
      "├── jetto.sadas\r\n",
      "├── jetto.sgrid\r\n",
      "├── jetto.shistory\r\n",
      "├── jetto.sin\r\n",
      "├── jetto.sout\r\n",
      "├── jetto.srestart\r\n",
      "├── jetto.ssp\r\n",
      "├── jetto.ssp1\r\n",
      "├── jetto.ssp2\r\n",
      "├── jetto.sst\r\n",
      "├── jetto.sst1\r\n",
      "├── jetto.sst2\r\n",
      "├── jetto.status\r\n",
      "├── jintrac_imas_config.cfg\r\n",
      "├── jintrac_prov\r\n",
      "├── labels.yaml\r\n",
      "├── linrad -> /gss_efgw_work/work/g2fjc/jintrac/v220922/data/linrad\r\n",
      "├── lookup.json\r\n",
      "├── mishka_bin -> /gss_efgw_work/work/g2fjc/cmg/jams/v220922/depot/mishka/bin/mishka\r\n",
      "├── python.err\r\n",
      "├── QLKNN-data -> /gss_efgw_work/work/g2fjc/jintrac/v220922/jetto/tci/transport/QLKNN/data\r\n",
      "├── rjettov\r\n",
      "├── serialisation.json\r\n",
      "├── _template\r\n",
      "├── tools\r\n",
      "├── utils_jetto\r\n",
      "└── workflow\r\n",
      "\r\n",
      "14 directories, 106 files\r\n"
     ]
    }
   ],
   "source": [
    "os.chdir(run_dir / 'run_0000')\n",
    "!tree -L 1"
   ]
  },
  {
   "cell_type": "markdown",
   "id": "f6f15581",
   "metadata": {},
   "source": [
    "The data are stored in the local imasdb (support for JINTRAC v220922+)."
   ]
  },
  {
   "cell_type": "code",
   "execution_count": 11,
   "id": "e312a04c",
   "metadata": {},
   "outputs": [
    {
     "name": "stdout",
     "output_type": "stream",
     "text": [
      "imasdb\n",
      "└── jet\n",
      "    └── 3\n",
      "        ├── 0\n",
      "        │   ├── ids_903500001.characteristics\n",
      "        │   ├── ids_903500001.datafile\n",
      "        │   ├── ids_903500001.tree\n",
      "        │   ├── ids_903500002.characteristics\n",
      "        │   ├── ids_903500002.datafile\n",
      "        │   └── ids_903500002.tree\n",
      "        ├── 1\n",
      "        ├── 2\n",
      "        ├── 3\n",
      "        ├── 4\n",
      "        ├── 5\n",
      "        ├── 6\n",
      "        ├── 7\n",
      "        ├── 8\n",
      "        └── 9\n",
      "\n",
      "12 directories, 6 files\n"
     ]
    }
   ],
   "source": [
    "!tree imasdb"
   ]
  },
  {
   "cell_type": "markdown",
   "id": "f1aa6e1a",
   "metadata": {},
   "source": [
    "## Data visualization with `duqtools plot`"
   ]
  },
  {
   "cell_type": "markdown",
   "id": "23168594",
   "metadata": {},
   "source": [
    "Duqtools contains a tool to create plots for your data from the command line."
   ]
  },
  {
   "cell_type": "code",
   "execution_count": 12,
   "id": "a99920f0",
   "metadata": {},
   "outputs": [
    {
     "name": "stdout",
     "output_type": "stream",
     "text": [
      "You can now view your plot in your browser:\n",
      "\n",
      "\u001b[32m  rho_tor_norm vs. t_i_ave:\n",
      "\u001b[0m\n",
      "\u001b[1m    file:////afs/eufus.eu/g2itmuse/user/g2ssmee/duqtools_demo/chart_rho_tor_norm-t_i_ave.html\u001b[0m\n",
      "\n",
      "You can now view your plot in your browser:\n",
      "\n",
      "\u001b[32m  rho_tor_norm vs. t_e:\n",
      "\u001b[0m\n",
      "\u001b[1m    file:////afs/eufus.eu/g2itmuse/user/g2ssmee/duqtools_demo/chart_rho_tor_norm-t_e.html\u001b[0m\n",
      "\n",
      "You can now view your plot in your browser:\n",
      "\n",
      "\u001b[32m  rho_tor_norm vs. zeff:\n",
      "\u001b[0m\n",
      "\u001b[1m    file:////afs/eufus.eu/g2itmuse/user/g2ssmee/duqtools_demo/chart_rho_tor_norm-zeff.html\u001b[0m\n",
      "\n"
     ]
    }
   ],
   "source": [
    "os.chdir(duqtools_dir)\n",
    "\n",
    "!duqtools plot -i data.csv -v t_i_ave -v t_e -v zeff"
   ]
  },
  {
   "cell_type": "markdown",
   "id": "6d38ad28",
   "metadata": {},
   "source": [
    "## Data exploration with `duqtools dash`\n",
    "\n",
    "This is a tool for data exploration and visualization.\n",
    "\n",
    "Use this `data.csv`:  \n",
    "`/afs/eufus.eu/user/g/g2ssmee/jetto_runs/workspace_demo/data.csv`"
   ]
  },
  {
   "cell_type": "code",
   "execution_count": 13,
   "id": "7a138f02",
   "metadata": {},
   "outputs": [
    {
     "name": "stdout",
     "output_type": "stream",
     "text": [
      "\u001b[0m\n",
      "\u001b[34m\u001b[1m  You can now view your Streamlit app in your browser.\u001b[0m\n",
      "\u001b[0m\n",
      "\u001b[34m  Local URL: \u001b[0m\u001b[1mhttp://localhost:8501\u001b[0m\n",
      "\u001b[34m  Network URL: \u001b[0m\u001b[1mhttp://130.186.25.53:8501\u001b[0m\n",
      "\u001b[0m\n",
      "^C\n",
      "\u001b[34m  Stopping...\u001b[0m\n"
     ]
    }
   ],
   "source": [
    "!duqtools dash"
   ]
  },
  {
   "cell_type": "markdown",
   "id": "25165a31",
   "metadata": {},
   "source": [
    "## Canonical UQ with `duqtools setup`\n",
    "\n",
    "Duqtools setup is a tool that can help with canonical UQ.\n",
    "\n",
    "It takes a templated called `duqtools.template.yaml` which contains the canonical settings. `duqtools setup` uses this file to generate a `duqtools.yaml` file, which is compatible with `duqtools create` (see steps above).\n",
    "\n",
    "You can specify the input imas data on the command line. Duqtools will fill some machine specific from the IDS directly. The rules are specified in `variables_ids2jetto.yaml`. See the [documentation](https://duqtools.readthedocs.io/en/latest/variables/#ids2jetto-variables) for more information about variable specification."
   ]
  },
  {
   "cell_type": "code",
   "execution_count": 14,
   "id": "408dcc97",
   "metadata": {},
   "outputs": [],
   "source": [
    "import os\n",
    "os.chdir('/afs/eufus.eu/user/g/g2ssmee/duqtools_template')"
   ]
  },
  {
   "cell_type": "markdown",
   "id": "cc2c1163",
   "metadata": {},
   "source": [
    "Below is what the template looks like.\n",
    "\n",
    "The template uses [jinja2](https://jinja.palletsprojects.com/en/latest/) as a templating language.\n",
    "\n",
    "Accolates (`{..}`) denote placeholders that will be replaced by the templating `jinja2`. Three objects are currently available (`run` to denote the run name, `handle` to reference the imas data, and `variables` to reference variables from the IDS data. See the [documentation](https://duqtools.readthedocs.io/en/latest/large_scale_validation/#placeholder-variables) for more information about these placeholders. \n",
    "\n",
    "The template supports functions to modify the placeholders or do some simple logic. The example below does some rounding of the variables using the `round()` function. The end time is calculated by taking the start time and adding 0.01 s."
   ]
  },
  {
   "cell_type": "code",
   "execution_count": 15,
   "id": "12ed22c5",
   "metadata": {},
   "outputs": [
    {
     "name": "stdout",
     "output_type": "stream",
     "text": [
      "tag: {{ run.name }}\r\n",
      "create:\r\n",
      "  runs_dir: /afs/eufus.eu/user/g/g2ssmee/jetto_runs/{{ run.name }}\r\n",
      "  template: /afs/eufus.eu/user/g/g2ssmee/jetto_runs/interpretive_esco02\r\n",
      "  template_data:\r\n",
      "    user: {{ handle.user }}\r\n",
      "    db: {{ handle.db }}\r\n",
      "    shot: {{ handle.shot }}\r\n",
      "    run: {{ handle.run }}\r\n",
      "  sampler:\r\n",
      "    method: latin-hypercube\r\n",
      "    n_samples: 25\r\n",
      "  dimensions:\r\n",
      "    - variable: zeff\r\n",
      "      operator: multiply\r\n",
      "      values: [0.8, 0.9, 1.0, 1.1, 1.2]\r\n",
      "    - variable: t_e\r\n",
      "      operator: multiply\r\n",
      "      values: [0.8, 0.9, 1.0, 1.1, 1.2]\r\n",
      "    - variable: major_radius\r\n",
      "      operator: copyto\r\n",
      "      {# Convert units from IDS (m) to Jetto.jset (cm) -#}\r\n",
      "      values: [ {{ (variables.major_radius * 100) | round(4) }} ]\r\n",
      "    - variable: b_field\r\n",
      "      operator: copyto\r\n",
      "      values: [ {{ variables.b_field | round(4) }} ]\r\n",
      "    - variable: t_start\r\n",
      "      operator: copyto\r\n",
      "      values: [ {{ variables.t_start | round(4) }} ]\r\n",
      "    - variable: t_end\r\n",
      "      operator: copyto\r\n",
      "      values: [ {{ (variables.t_start + 0.01) | round(4) }} ]\r\n",
      "system: jetto-v220922"
     ]
    }
   ],
   "source": [
    "%cat duqtools.template.yaml"
   ]
  },
  {
   "cell_type": "markdown",
   "id": "5eaaa2f2",
   "metadata": {},
   "source": [
    "Using `duqtools setup` replaces the `handle` attributes with the imas location given on the CLI, and the `run.name` with the name of the run."
   ]
  },
  {
   "cell_type": "code",
   "execution_count": 16,
   "id": "5fe5798a",
   "metadata": {},
   "outputs": [
    {
     "name": "stdout",
     "output_type": "stream",
     "text": [
      "\r\n",
      "\u001b[31m\u001b[1mOperations in the Queue:\u001b[0m\r\n",
      "\u001b[31m\u001b[1m========================\u001b[0m\r\n",
      "- \u001b[32mSetup run\u001b[0m : my_run\r\n",
      "\u001b[31m\u001b[1mApplying Operations\u001b[0m\r\n",
      "1\r\n",
      "\r\n",
      "\r",
      "  0%|                                                     | 0/1 [00:00<?, ?it/s]\u001b[A\r\n",
      "\r",
      "Progress:   0%|                                           | 0/1 [00:00<?, ?it/s]\u001b[A\r",
      "\r",
      "\u001b[32mSetup run\u001b[0m : my_run: \r",
      "\u001b[32mSetup run\u001b[0m : my_run: \r\n",
      "\r",
      "Progress: 100%|██████████████████████████████████| 1/1 [00:00<00:00, 415.03it/s]\r\n"
     ]
    }
   ],
   "source": [
    "!duqtools setup --handle g2aho/jet/90350/2 --run_name my_run --yes"
   ]
  },
  {
   "cell_type": "markdown",
   "id": "e1224213",
   "metadata": {},
   "source": [
    "Below is what the resulting `duqtools.yaml` looks like. It can be modified or directly used as input for `duqtools create`."
   ]
  },
  {
   "cell_type": "code",
   "execution_count": 17,
   "id": "46517057",
   "metadata": {},
   "outputs": [
    {
     "name": "stdout",
     "output_type": "stream",
     "text": [
      "tag: my_run\r\n",
      "create:\r\n",
      "  runs_dir: /afs/eufus.eu/user/g/g2ssmee/jetto_runs/my_run\r\n",
      "  template: /afs/eufus.eu/user/g/g2ssmee/jetto_runs/interpretive_esco02\r\n",
      "  template_data:\r\n",
      "    user: g2aho\r\n",
      "    db: jet\r\n",
      "    shot: 90350\r\n",
      "    run: 2\r\n",
      "  sampler:\r\n",
      "    method: latin-hypercube\r\n",
      "    n_samples: 25\r\n",
      "  dimensions:\r\n",
      "    - variable: zeff\r\n",
      "      operator: multiply\r\n",
      "      values: [0.8, 0.9, 1.0, 1.1, 1.2]\r\n",
      "    - variable: t_e\r\n",
      "      operator: multiply\r\n",
      "      values: [0.8, 0.9, 1.0, 1.1, 1.2]\r\n",
      "    - variable: major_radius\r\n",
      "      operator: copyto\r\n",
      "      values: [ 296.0 ]\r\n",
      "    - variable: b_field\r\n",
      "      operator: copyto\r\n",
      "      values: [ 2.1155 ]\r\n",
      "    - variable: t_start\r\n",
      "      operator: copyto\r\n",
      "      values: [ 45.75 ]\r\n",
      "    - variable: t_end\r\n",
      "      operator: copyto\r\n",
      "      values: [ 45.76 ]\r\n",
      "system: jetto-v220922"
     ]
    }
   ],
   "source": [
    "%cat my_run/duqtools.yaml"
   ]
  },
  {
   "cell_type": "code",
   "execution_count": null,
   "id": "70c11ea6",
   "metadata": {},
   "outputs": [],
   "source": []
  }
 ],
 "metadata": {
  "kernelspec": {
   "display_name": ".venv",
   "language": "python",
   "name": ".venv"
  },
  "language_info": {
   "codemirror_mode": {
    "name": "ipython",
    "version": 3
   },
   "file_extension": ".py",
   "mimetype": "text/x-python",
   "name": "python",
   "nbconvert_exporter": "python",
   "pygments_lexer": "ipython3",
   "version": "3.10.2"
  }
 },
 "nbformat": 4,
 "nbformat_minor": 5
}
