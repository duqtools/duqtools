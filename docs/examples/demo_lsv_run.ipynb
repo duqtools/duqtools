{
 "cells": [
  {
   "cell_type": "markdown",
   "id": "2e3c1974",
   "metadata": {},
   "source": [
    "# Duqduq demo: large scale validation\n",
    "\n",
    "This notebook shows how to use [duqtools](https://duqtools.readthedocs.org) to large scale validation.\n",
    "\n",
    "It will go over the steps required to do uncertainty quantification from a sequence of data sets.\n",
    "\n",
    "Where `duqtools` does UQ for a single data set, `duqduq` loops over multiple datasets to do UQ in sequence.\n",
    "\n",
    "We define 2 directories:\n",
    "\n",
    "- **duqduq directory**, this is where the duqtools and UQ config resides. This is also the directory we work in with duqduq.\n",
    "- **run directory**, this is a directory where slurm has access and where all the simulation files and data are stored."
   ]
  },
  {
   "cell_type": "code",
   "execution_count": 2,
   "id": "f513699f",
   "metadata": {},
   "outputs": [],
   "source": [
    "from pathlib import Path\n",
    "duqtools_dir = Path('/afs/eufus.eu/user/g/g2ssmee/duqduq_demo')\n",
    "run_dir = Path('/afs/eufus.eu/user/g/g2ssmee/jetto_runs/duqduq_demo')\n",
    "\n",
    "import os\n",
    "os.chdir(duqtools_dir)"
   ]
  },
  {
   "cell_type": "markdown",
   "id": "a9263477",
   "metadata": {},
   "source": [
    "## `duqduq help`\n",
    "\n",
    "The main interface for duqduq is via the CLI. You can run `duqduq --help` to give a list of available subcommands.\n",
    "\n",
    "You will notice that the subcommands here mimic what is available in `duqtools`."
   ]
  },
  {
   "cell_type": "code",
   "execution_count": 3,
   "id": "2b25c2ff",
   "metadata": {},
   "outputs": [
    {
     "name": "stdout",
     "output_type": "stream",
     "text": [
      "Usage: duqduq [OPTIONS] COMMAND [ARGS]...\r\n",
      "\r\n",
      "  For more information, check out the documentation:\r\n",
      "\r\n",
      "  https://duqtools.readthedocs.io/large_scale_validation\r\n",
      "\r\n",
      "Options:\r\n",
      "  --help  Show this message and exit.\r\n",
      "\r\n",
      "Commands:\r\n",
      "  create  Create data sets for large scale validation.\r\n",
      "  merge   Merge data sets with error propagation.\r\n",
      "  setup   Set up large scale validation.\r\n",
      "  status  Check status large scale validation runs.\r\n",
      "  submit  Submit large scale validation runs.\r\n"
     ]
    }
   ],
   "source": [
    "!duqduq --help"
   ]
  },
  {
   "cell_type": "markdown",
   "id": "42a15152",
   "metadata": {},
   "source": [
    "## `duqduq setup`\n",
    "\n",
    "The starting point for `duqduq` is 2 files:\n",
    "\n",
    "- `duqtools.template.yaml`, this is the template config that `duqduq setup` will use to generate the `duqtools.yaml`\n",
    "- `data.csv`, each entry in this csv file corresponds to an IMAS data set\n",
    "\n",
    "Below is an example `data.csv` file. This is how you tell `duqduq` which data to do UQ for."
   ]
  },
  {
   "cell_type": "code",
   "execution_count": 8,
   "id": "4b1cc00a",
   "metadata": {},
   "outputs": [
    {
     "name": "stdout",
     "output_type": "stream",
     "text": [
      ",user,db,shot,run\r\n",
      "data_01,g2aho,aug,36982,0002\r\n",
      "data_02,g2aho,jet,75225,0002\r\n",
      "data_03,g2aho,jet,90350,0002\r\n",
      "data_04,g2aho,jet,92432,0002\r\n",
      "data_05,g2aho,jet,94875,0001\r\n",
      "data_06,g2aho,tcv,64958,0002\r\n",
      "data_07,g2aho,west,54568,0001\r\n",
      "data_08,g2aho,west,54728,0001\r\n",
      "data_09,g2aho,west,55181,0001\r\n",
      "data_10,g2aho,west,55525,0001\r\n"
     ]
    }
   ],
   "source": [
    "%cat data.csv"
   ]
  },
  {
   "cell_type": "markdown",
   "id": "02c5baa0",
   "metadata": {},
   "source": [
    "Below is an example `duqtools.template.yaml`.\n",
    "\n",
    "The index of each entry in `data.csv` file will be used as the run name (`run.name`).\n",
    "\n",
    "The details for each entry in `data.csv` will be written to the `template_data` section.\n",
    "\n",
    "Machine/dataset specific parameters, such as major radius or the start time are grabbed from the IDS. \n",
    "\n",
    "For more information, see the [documentation](https://duqtools.readthedocs.io/en/latest/large_scale_validation/) for large scale validation."
   ]
  },
  {
   "cell_type": "code",
   "execution_count": 9,
   "id": "8cfc1350",
   "metadata": {},
   "outputs": [
    {
     "name": "stdout",
     "output_type": "stream",
     "text": [
      "tag: {{ run.name }}\r\n",
      "create:\r\n",
      "  runs_dir: /afs/eufus.eu/user/g/g2ssmee/jetto_runs/duqduq_long/{{ run.name }}\r\n",
      "  template: /afs/eufus.eu/user/g/g2ssmee/jetto_runs/interpretive_esco02\r\n",
      "  template_data:\r\n",
      "    user: {{ handle.user }}\r\n",
      "    db: {{ handle.db }}\r\n",
      "    shot: {{ handle.shot }}\r\n",
      "    run: {{ handle.run }}\r\n",
      "  sampler:\r\n",
      "    method: latin-hypercube\r\n",
      "    n_samples: 9\r\n",
      "  dimensions:\r\n",
      "    - variable: zeff\r\n",
      "      operator: multiply\r\n",
      "      values: [0.8, 1.0, 1.2]\r\n",
      "    - variable: t_e\r\n",
      "      operator: multiply\r\n",
      "      values: [0.8, 1.0, 1.2]\r\n",
      "    - variable: major_radius\r\n",
      "      operator: copyto\r\n",
      "      {# Convert units from IDS (m) to Jetto.jset (cm) -#}\r\n",
      "      values: [ {{ (variables.major_radius * 100) | round(4) }} ]\r\n",
      "    - variable: b_field\r\n",
      "      operator: copyto\r\n",
      "      values: [ {{ variables.b_field | round(4) }} ]\r\n",
      "    - variable: t_start\r\n",
      "      operator: copyto\r\n",
      "      values: [ {{ variables.t_start | round(4) }} ]\r\n",
      "    - variable: t_end\r\n",
      "      operator: copyto\r\n",
      "      values: [ {{ (variables.t_start + 1.0) | round(4) }} ]\r\n",
      "system: jetto-v220922"
     ]
    }
   ],
   "source": [
    "%cat duqtools.template.yaml"
   ]
  },
  {
   "cell_type": "markdown",
   "id": "53c0c8a0",
   "metadata": {},
   "source": [
    "Running `duqduq setup` will generate a new directory for each dataset in `data.csv`. Each directory is in itself a valid **duqtools directory**."
   ]
  },
  {
   "cell_type": "code",
   "execution_count": 11,
   "id": "377d2495",
   "metadata": {},
   "outputs": [
    {
     "name": "stdout",
     "output_type": "stream",
     "text": [
      "\r\n",
      "\u001b[31m\u001b[1mOperations in the Queue:\u001b[0m\r\n",
      "\u001b[31m\u001b[1m========================\u001b[0m\r\n",
      "- \u001b[32mSetup run\u001b[0m : data_01\r\n",
      "- \u001b[32mSetup run\u001b[0m : data_02\r\n",
      "- \u001b[32mSetup run\u001b[0m : data_03\r\n",
      "- \u001b[32mSetup run\u001b[0m : data_04\r\n",
      "- \u001b[32mSetup run\u001b[0m : data_05\r\n",
      "- \u001b[32mSetup run\u001b[0m : data_06\r\n",
      "- \u001b[32mSetup run\u001b[0m : data_07\r\n",
      "- \u001b[32mSetup run\u001b[0m : data_08\r\n",
      "- \u001b[32mSetup run\u001b[0m : data_09\r\n",
      "- \u001b[32mSetup run\u001b[0m : data_10\r\n",
      "\u001b[31m\u001b[1mApplying Operations\u001b[0m\r\n",
      "10\r\n",
      "\r\n",
      "\r",
      "  0%|                                                    | 0/10 [00:00<?, ?it/s]\u001b[A\r\n",
      "\r",
      "Progress:   0%|                                          | 0/10 [00:00<?, ?it/s]\u001b[A\r",
      "\r",
      "\u001b[32mSetup run\u001b[0m : data_01: \r",
      "\u001b[32mSetup run\u001b[0m : data_02: \r",
      "\u001b[32mSetup run\u001b[0m : data_03: \r",
      "\u001b[32mSetup run\u001b[0m : data_04: \r",
      "\u001b[32mSetup run\u001b[0m : data_05: \r",
      "\u001b[32mSetup run\u001b[0m : data_06: \r",
      "\u001b[32mSetup run\u001b[0m : data_07: \r",
      "\u001b[32mSetup run\u001b[0m : data_08: \r",
      "\u001b[32mSetup run\u001b[0m : data_09: \r",
      "\u001b[32mSetup run\u001b[0m : data_10: \r",
      "\u001b[32mSetup run\u001b[0m : data_10: \r\n",
      "\r",
      "Progress: 100%|████████████████████████████████| 10/10 [00:00<00:00, 393.28it/s]\r\n"
     ]
    }
   ],
   "source": [
    "!duqduq setup --yes"
   ]
  },
  {
   "cell_type": "markdown",
   "id": "2373c6df",
   "metadata": {},
   "source": [
    "This is what the directory looks like after setup."
   ]
  },
  {
   "cell_type": "code",
   "execution_count": 13,
   "id": "228e8f04",
   "metadata": {},
   "outputs": [
    {
     "name": "stdout",
     "output_type": "stream",
     "text": [
      ".\r\n",
      "├── data_01\r\n",
      "│   └── duqtools.yaml\r\n",
      "├── data_02\r\n",
      "│   └── duqtools.yaml\r\n",
      "├── data_03\r\n",
      "│   └── duqtools.yaml\r\n",
      "├── data_04\r\n",
      "│   └── duqtools.yaml\r\n",
      "├── data_05\r\n",
      "│   └── duqtools.yaml\r\n",
      "├── data_06\r\n",
      "│   └── duqtools.yaml\r\n",
      "├── data_07\r\n",
      "│   └── duqtools.yaml\r\n",
      "├── data_08\r\n",
      "│   └── duqtools.yaml\r\n",
      "├── data_09\r\n",
      "│   └── duqtools.yaml\r\n",
      "├── data_10\r\n",
      "│   └── duqtools.yaml\r\n",
      "├── data.csv\r\n",
      "├── duqtools.log\r\n",
      "└── duqtools.template.yaml\r\n",
      "\r\n",
      "10 directories, 13 files\r\n"
     ]
    }
   ],
   "source": [
    "!tree ."
   ]
  },
  {
   "cell_type": "markdown",
   "id": "2121c3f0",
   "metadata": {},
   "source": [
    "It creates a duqtools config in each of the subdirectories. At this stage you could modify each of the `duqtools.yaml` if you wish. The config is no different than for a single UQ run. This means you could do`cd data_01` and treat it as a single UQ run."
   ]
  },
  {
   "cell_type": "code",
   "execution_count": 14,
   "id": "f53e300d",
   "metadata": {},
   "outputs": [
    {
     "name": "stdout",
     "output_type": "stream",
     "text": [
      "tag: data_01\r\n",
      "create:\r\n",
      "  runs_dir: /afs/eufus.eu/user/g/g2ssmee/jetto_runs/duqduq_long/data_01\r\n",
      "  template: /afs/eufus.eu/user/g/g2ssmee/jetto_runs/interpretive_esco02\r\n",
      "  template_data:\r\n",
      "    user: g2aho\r\n",
      "    db: aug\r\n",
      "    shot: 36982\r\n",
      "    run: 2\r\n",
      "  sampler:\r\n",
      "    method: latin-hypercube\r\n",
      "    n_samples: 9\r\n",
      "  dimensions:\r\n",
      "    - variable: zeff\r\n",
      "      operator: multiply\r\n",
      "      values: [0.8, 1.0, 1.2]\r\n",
      "    - variable: t_e\r\n",
      "      operator: multiply\r\n",
      "      values: [0.8, 1.0, 1.2]\r\n",
      "    - variable: major_radius\r\n",
      "      operator: copyto\r\n",
      "      values: [ 165.0 ]\r\n",
      "    - variable: b_field\r\n",
      "      operator: copyto\r\n",
      "      values: [ -2.5725 ]\r\n",
      "    - variable: t_start\r\n",
      "      operator: copyto\r\n",
      "      values: [ 2.875 ]\r\n",
      "    - variable: t_end\r\n",
      "      operator: copyto\r\n",
      "      values: [ 3.875 ]\r\n",
      "system: jetto-v220922"
     ]
    }
   ],
   "source": [
    "%cat data_01/duqtools.yaml"
   ]
  },
  {
   "cell_type": "markdown",
   "id": "55385b3d",
   "metadata": {},
   "source": [
    "## Create runs using `duqduq create`\n",
    "\n",
    "This is the equivalent of `duqtools create`, but for a large number of runs.\n",
    "\n",
    "It will take each of the duqtools configs generated and set up the jetto runs and imas data according to the specification.\n",
    "\n",
    "Since this will take a long time, we will use the `--dry_run` option."
   ]
  },
  {
   "cell_type": "code",
   "execution_count": 15,
   "id": "a76f8e3e",
   "metadata": {},
   "outputs": [
    {
     "name": "stdout",
     "output_type": "stream",
     "text": [
      "Usage: duqduq create [OPTIONS]\r\n",
      "Try 'duqduq create --help' for help.\r\n",
      "\r\n",
      "Error: No such option: --dry_run\r\n"
     ]
    }
   ],
   "source": [
    "!duqduq create --yes --dry_run"
   ]
  },
  {
   "cell_type": "markdown",
   "id": "8f7b067f",
   "metadata": {},
   "source": [
    "## Submit to slurm using `duqduq submit`\n",
    "\n",
    "Use `duqduq submit` to submit the jobs to slurm. This tool will find all jobs (`.llcmd` files in the subdirectories) and submit them to slurm.\n",
    "\n",
    "Use the `--array` option to submit the jobs as a slurm array."
   ]
  },
  {
   "cell_type": "code",
   "execution_count": 7,
   "id": "5511d126",
   "metadata": {},
   "outputs": [
    {
     "name": "stdout",
     "output_type": "stream",
     "text": [
      "\u001b[33m15:17:10 [WARNING] Python module 'omas' not found. Submodule 'jams' needs it @jams.py:14\u001b[0m\n",
      "\u001b[33m15:17:10 [WARNING] Python module 'netCDF4' not found. Submodule 'transp' needs it @transp.py:25\u001b[0m\n",
      "\n",
      "\u001b[31m\u001b[1mOperations in the Queue:\u001b[0m\n",
      "\u001b[31m\u001b[1m========================\u001b[0m\n",
      "- \u001b[32mAdding to array\u001b[0m : Job('/gss_efgw_work/work/g2ssmee/jetto/runs/duqtools_demo/run_0000')\n",
      "- \u001b[32mAdding to array\u001b[0m : Job('/gss_efgw_work/work/g2ssmee/jetto/runs/duqtools_demo/run_0001')\n",
      "- \u001b[32mAdding to array\u001b[0m : Job('/gss_efgw_work/work/g2ssmee/jetto/runs/duqtools_demo/run_0002')\n",
      "- \u001b[32mSubmit single array job\u001b[0m : duqtools_slurm_array.sh\n",
      "\u001b[31m\u001b[1mApplying Operations\u001b[0m\n",
      "4\n",
      "\n",
      "  0%|                                                     | 0/4 [00:00<?, ?it/s]\u001b[A\n",
      "\u001b[32mSubmit single array job\u001b[0m : duqtools_slurm_array.sh:                                      \n",
      "Progress: 100%|███████████████████████████████████| 4/4 [00:00<00:00, 50.03it/s]\n"
     ]
    }
   ],
   "source": [
    "!duqtools submit --array --max_jobs 10 --yes --dry_run"
   ]
  },
  {
   "cell_type": "markdown",
   "id": "cf9ea182",
   "metadata": {},
   "source": [
    "## `duqduq status`\n",
    "\n",
    "Query the status using `duqduq status`. This essentially parses all the `jetto.status` files in the run directory."
   ]
  },
  {
   "cell_type": "code",
   "execution_count": 8,
   "id": "2c99fe26",
   "metadata": {},
   "outputs": [
    {
     "name": "stdout",
     "output_type": "stream",
     "text": [
      "             JOBID PARTITION     NAME     USER ST       TIME  NODES NODELIST(REASON)\n",
      "          216865_0        gw duqtools  g2ssmee  R       0:04      1 r054c05s04\n",
      "          216865_1        gw duqtools  g2ssmee  R       0:04      1 r054c05s04\n",
      "          216865_2        gw duqtools  g2ssmee  R       0:04      1 r182c14s04\n",
      "\u001b[33m15:17:16 [WARNING] Python module 'omas' not found. Submodule 'jams' needs it @jams.py:14\u001b[0m\n",
      "\u001b[33m15:17:16 [WARNING] Python module 'netCDF4' not found. Submodule 'transp' needs it @transp.py:25\u001b[0m\n",
      "Total number of directories with submit script     : 3\n",
      "Total number of directories with unsubmitted jobs  : 3\n",
      "Total number of directories with status script     : 0\n",
      "Total number of directories with completed status  : 0\n",
      "Total number of directories with failed status     : 0\n",
      "Total number of directories with running status    : 0\n",
      "Total number of directories with unknown status    : 0\n"
     ]
    }
   ],
   "source": [
    "!duqduq status"
   ]
  },
  {
   "cell_type": "markdown",
   "id": "dda65bc0",
   "metadata": {},
   "source": [
    "## Overview of run directory\n",
    "\n",
    "Duqtools writes the data in the directory specified by `run_dir` in `duqtools.yaml`. \n",
    "\n",
    "- `duqtools.yaml` is a copy of the duqtools config\n",
    "- `logs` contains the logs from the slurm array\n",
    "- `runs.yaml` contains the metadata for each of the runs so that they can be reproduced\n",
    "- `run_000{1..3}` are the jetto run directories. There are 3 directories corresponding to `n_samples: 3` in the duqtools config."
   ]
  },
  {
   "cell_type": "code",
   "execution_count": 9,
   "id": "da1886b8",
   "metadata": {},
   "outputs": [
    {
     "name": "stdout",
     "output_type": "stream",
     "text": [
      ".\r\n",
      "├── duqtools.yaml\r\n",
      "├── logs\r\n",
      "├── run_0000\r\n",
      "├── run_0001\r\n",
      "├── run_0002\r\n",
      "└── runs.yaml\r\n",
      "\r\n",
      "4 directories, 2 files\r\n"
     ]
    }
   ],
   "source": [
    "os.chdir(run_dir)\n",
    "!tree -L 1"
   ]
  },
  {
   "cell_type": "markdown",
   "id": "015cf326",
   "metadata": {},
   "source": [
    "A jetto run directory."
   ]
  },
  {
   "cell_type": "code",
   "execution_count": 10,
   "id": "7be5a696",
   "metadata": {
    "scrolled": true
   },
   "outputs": [
    {
     "name": "stdout",
     "output_type": "stream",
     "text": [
      ".\r\n",
      "├── configs\r\n",
      "├── data\r\n",
      "├── duqtools.submit.lock\r\n",
      "├── envs\r\n",
      "├── fort.12\r\n",
      "├── fort.13\r\n",
      "├── fort.21\r\n",
      "├── fort.260 -> jetto.nbip\r\n",
      "├── fort.261 -> jetto.nbip1\r\n",
      "├── fort.262 -> jetto.nbip2\r\n",
      "├── fort.263 -> jetto.nbip3\r\n",
      "├── fort.272 -> jetto.tip\r\n",
      "├── fort.273 -> jetto.ni1p\r\n",
      "├── fort.274 -> jetto.ni2p\r\n",
      "├── fort.275 -> jetto.gasp\r\n",
      "├── fort.278 -> jetto.eqt\r\n",
      "├── fort.280 -> jetto.sadas\r\n",
      "├── fort.29 -> jetto.restart\r\n",
      "├── fort.300 -> jetto.ext\r\n",
      "├── fort.364 -> jetto.beamionsource\r\n",
      "├── fort.40 -> jetto.chksum\r\n",
      "├── fort.400 -> pion.0\r\n",
      "├── fort.401 -> pion.1\r\n",
      "├── fort.402 -> pion.2\r\n",
      "├── fort.406 -> pion.6\r\n",
      "├── fort.407 -> pion.7\r\n",
      "├── fort.419 -> pion.19\r\n",
      "├── fort.420 -> pion.20\r\n",
      "├── fort.45 -> jetto.mhddb\r\n",
      "├── fort.451 -> pion.51\r\n",
      "├── fort.452 -> pion.52\r\n",
      "├── fort.453 -> pion.53\r\n",
      "├── fort.454 -> pion.54\r\n",
      "├── fort.455 -> pion.55\r\n",
      "├── fort.456 -> pion.56\r\n",
      "├── fort.470 -> pion.70\r\n",
      "├── fort.471 -> pion.71\r\n",
      "├── fort.472 -> pion.72\r\n",
      "├── fort.48 -> configs/eigen\r\n",
      "├── fort.491 -> configs/jht\r\n",
      "├── fort.492 -> jetto.jht\r\n",
      "├── fort.493 -> configs/jhp\r\n",
      "├── fort.494 -> jetto.jhp\r\n",
      "├── fort.60 -> jetto.history\r\n",
      "├── fort.604 -> gray_central_ray_coord\r\n",
      "├── fort.608 -> gray_beam_CS\r\n",
      "├── fort.612 -> gray_beam_transv\r\n",
      "├── fort.72 -> jetto.ec\r\n",
      "├── fort.73 -> flistprm\r\n",
      "├── fort.74 -> ntm.print\r\n",
      "├── fort.75 -> ntm.out\r\n",
      "├── fort.76 -> ntm.greout\r\n",
      "├── fort.77 -> jetto.in\r\n",
      "├── fort.78 -> jetto.sgrid\r\n",
      "├── fort.79 -> jetto.str\r\n",
      "├── fort.8 -> jetto.restart\r\n",
      "├── fort.80 -> jetto.sin\r\n",
      "├── fort.81 -> jetto.srestart\r\n",
      "├── fort.82 -> jetto.srestart\r\n",
      "├── fort.84 -> jetto.shistory\r\n",
      "├── fort.87 -> jetto.shistory\r\n",
      "├── fort.88 -> jetto.sout\r\n",
      "├── fort.9 -> jetto.bnd\r\n",
      "├── fort.95 -> jetto.eqfile\r\n",
      "├── fort.96 -> jetto.stat\r\n",
      "├── fort.97 -> jetto.eqdsk_out\r\n",
      "├── fort.98 -> jetto.eqrestart\r\n",
      "├── fort.99 -> jetto.cbank\r\n",
      "├── global_configuration\r\n",
      "├── hcd_batch\r\n",
      "├── hcd_gui\r\n",
      "├── hcd_gui.py\r\n",
      "├── hcd_nogui\r\n",
      "├── helena_bin -> /gss_efgw_work/work/g2fjc/cmg/jams/v220922/depot/helena/bin\r\n",
      "├── imasdb\r\n",
      "├── interface\r\n",
      "├── ionatom -> /gss_efgw_work/work/g2fjc/jintrac/v220922/data/ionatom\r\n",
      "├── jetto.catid\r\n",
      "├── jetto.chksum\r\n",
      "├── jetto.datadir\r\n",
      "├── jetto.eqdsk_out\r\n",
      "├── jetto.eqrestart\r\n",
      "├── jetto.ex\r\n",
      "├── jetto.grill -> configs/lhcd6/jetto.grill\r\n",
      "├── jetto.in\r\n",
      "├── jetto.jse\r\n",
      "├── jetto.jset\r\n",
      "├── jetto.jsp\r\n",
      "├── jetto.jss\r\n",
      "├── jetto.jst\r\n",
      "├── jetto.out\r\n",
      "├── jetto.ray -> configs/lhcd6/jetto.ray\r\n",
      "├── jetto.restart\r\n",
      "├── jetto.sadas\r\n",
      "├── jetto.sgrid\r\n",
      "├── jetto.shistory\r\n",
      "├── jetto.sin\r\n",
      "├── jetto.sout\r\n",
      "├── jetto.srestart\r\n",
      "├── jetto.ssp\r\n",
      "├── jetto.ssp1\r\n",
      "├── jetto.ssp2\r\n",
      "├── jetto.sst\r\n",
      "├── jetto.sst1\r\n",
      "├── jetto.sst2\r\n",
      "├── jetto.status\r\n",
      "├── jintrac_imas_config.cfg\r\n",
      "├── jintrac_prov\r\n",
      "├── labels.yaml\r\n",
      "├── linrad -> /gss_efgw_work/work/g2fjc/jintrac/v220922/data/linrad\r\n",
      "├── lookup.json\r\n",
      "├── mishka_bin -> /gss_efgw_work/work/g2fjc/cmg/jams/v220922/depot/mishka/bin/mishka\r\n",
      "├── python.err\r\n",
      "├── QLKNN-data -> /gss_efgw_work/work/g2fjc/jintrac/v220922/jetto/tci/transport/QLKNN/data\r\n",
      "├── rjettov\r\n",
      "├── serialisation.json\r\n",
      "├── _template\r\n",
      "├── tools\r\n",
      "├── utils_jetto\r\n",
      "└── workflow\r\n",
      "\r\n",
      "14 directories, 106 files\r\n"
     ]
    }
   ],
   "source": [
    "os.chdir(run_dir / 'run_0000')\n",
    "!tree -L 1"
   ]
  },
  {
   "cell_type": "markdown",
   "id": "f6f15581",
   "metadata": {},
   "source": [
    "The data are stored in the local imasdb (support for JINTRAC v220922+)."
   ]
  },
  {
   "cell_type": "code",
   "execution_count": 11,
   "id": "e312a04c",
   "metadata": {},
   "outputs": [
    {
     "name": "stdout",
     "output_type": "stream",
     "text": [
      "imasdb\n",
      "└── jet\n",
      "    └── 3\n",
      "        ├── 0\n",
      "        │   ├── ids_903500001.characteristics\n",
      "        │   ├── ids_903500001.datafile\n",
      "        │   ├── ids_903500001.tree\n",
      "        │   ├── ids_903500002.characteristics\n",
      "        │   ├── ids_903500002.datafile\n",
      "        │   └── ids_903500002.tree\n",
      "        ├── 1\n",
      "        ├── 2\n",
      "        ├── 3\n",
      "        ├── 4\n",
      "        ├── 5\n",
      "        ├── 6\n",
      "        ├── 7\n",
      "        ├── 8\n",
      "        └── 9\n",
      "\n",
      "12 directories, 6 files\n"
     ]
    }
   ],
   "source": [
    "!tree imasdb"
   ]
  },
  {
   "cell_type": "markdown",
   "id": "f1aa6e1a",
   "metadata": {},
   "source": [
    "## Data visualization with `duqtools plot`"
   ]
  },
  {
   "cell_type": "markdown",
   "id": "23168594",
   "metadata": {},
   "source": [
    "Duqtools contains a tool to create plots for your data from the command line."
   ]
  },
  {
   "cell_type": "code",
   "execution_count": 12,
   "id": "a99920f0",
   "metadata": {},
   "outputs": [
    {
     "name": "stdout",
     "output_type": "stream",
     "text": [
      "You can now view your plot in your browser:\n",
      "\n",
      "\u001b[32m  rho_tor_norm vs. t_i_ave:\n",
      "\u001b[0m\n",
      "\u001b[1m    file:////afs/eufus.eu/g2itmuse/user/g2ssmee/duqtools_demo/chart_rho_tor_norm-t_i_ave.html\u001b[0m\n",
      "\n",
      "You can now view your plot in your browser:\n",
      "\n",
      "\u001b[32m  rho_tor_norm vs. t_e:\n",
      "\u001b[0m\n",
      "\u001b[1m    file:////afs/eufus.eu/g2itmuse/user/g2ssmee/duqtools_demo/chart_rho_tor_norm-t_e.html\u001b[0m\n",
      "\n",
      "You can now view your plot in your browser:\n",
      "\n",
      "\u001b[32m  rho_tor_norm vs. zeff:\n",
      "\u001b[0m\n",
      "\u001b[1m    file:////afs/eufus.eu/g2itmuse/user/g2ssmee/duqtools_demo/chart_rho_tor_norm-zeff.html\u001b[0m\n",
      "\n"
     ]
    }
   ],
   "source": [
    "os.chdir(duqtools_dir)\n",
    "\n",
    "!duqtools plot -i data.csv -v t_i_ave -v t_e -v zeff"
   ]
  },
  {
   "cell_type": "markdown",
   "id": "6d38ad28",
   "metadata": {},
   "source": [
    "## Data exploration with `duqtools dash`\n",
    "\n",
    "This is a tool for data exploration and visualization.\n",
    "\n",
    "Use this `data.csv`:  \n",
    "`/afs/eufus.eu/user/g/g2ssmee/jetto_runs/workspace_demo/data.csv`"
   ]
  },
  {
   "cell_type": "code",
   "execution_count": 13,
   "id": "7a138f02",
   "metadata": {},
   "outputs": [
    {
     "name": "stdout",
     "output_type": "stream",
     "text": [
      "\u001b[0m\n",
      "\u001b[34m\u001b[1m  You can now view your Streamlit app in your browser.\u001b[0m\n",
      "\u001b[0m\n",
      "\u001b[34m  Local URL: \u001b[0m\u001b[1mhttp://localhost:8501\u001b[0m\n",
      "\u001b[34m  Network URL: \u001b[0m\u001b[1mhttp://130.186.25.53:8501\u001b[0m\n",
      "\u001b[0m\n",
      "^C\n",
      "\u001b[34m  Stopping...\u001b[0m\n"
     ]
    }
   ],
   "source": [
    "!duqtools dash"
   ]
  },
  {
   "cell_type": "markdown",
   "id": "25165a31",
   "metadata": {},
   "source": [
    "## Canonical UQ with `duqtools setup`\n",
    "\n",
    "Duqtools setup is a tool that can help with canonical UQ.\n",
    "\n",
    "It takes a templated called `duqtools.template.yaml` which contains the canonical settings. `duqtools setup` uses this file to generate a `duqtools.yaml` file, which is compatible with `duqtools create` (see steps above).\n",
    "\n",
    "You can specify the input imas data on the command line. Duqtools will fill some machine specific from the IDS directly. The rules are specified in `variables_ids2jetto.yaml`. See the [documentation](https://duqtools.readthedocs.io/en/latest/variables/#ids2jetto-variables) for more information about variable specification."
   ]
  },
  {
   "cell_type": "code",
   "execution_count": 14,
   "id": "408dcc97",
   "metadata": {},
   "outputs": [],
   "source": [
    "import os\n",
    "os.chdir('/afs/eufus.eu/user/g/g2ssmee/duqtools_template')"
   ]
  },
  {
   "cell_type": "markdown",
   "id": "cc2c1163",
   "metadata": {},
   "source": [
    "Below is what the template looks like.\n",
    "\n",
    "The template uses [jinja2](https://jinja.palletsprojects.com/en/latest/) as a templating language.\n",
    "\n",
    "Accolates (`{..}`) denote placeholders that will be replaced by the templating `jinja2`. Three objects are currently available (`run` to denote the run name, `handle` to reference the imas data, and `variables` to reference variables from the IDS data. See the [documentation](https://duqtools.readthedocs.io/en/latest/large_scale_validation/#placeholder-variables) for more information about these placeholders. \n",
    "\n",
    "The template supports functions to modify the placeholders or do some simple logic. The example below does some rounding of the variables using the `round()` function. The end time is calculated by taking the start time and adding 0.01 s."
   ]
  },
  {
   "cell_type": "code",
   "execution_count": 15,
   "id": "12ed22c5",
   "metadata": {},
   "outputs": [
    {
     "name": "stdout",
     "output_type": "stream",
     "text": [
      "tag: {{ run.name }}\r\n",
      "create:\r\n",
      "  runs_dir: /afs/eufus.eu/user/g/g2ssmee/jetto_runs/{{ run.name }}\r\n",
      "  template: /afs/eufus.eu/user/g/g2ssmee/jetto_runs/interpretive_esco02\r\n",
      "  template_data:\r\n",
      "    user: {{ handle.user }}\r\n",
      "    db: {{ handle.db }}\r\n",
      "    shot: {{ handle.shot }}\r\n",
      "    run: {{ handle.run }}\r\n",
      "  sampler:\r\n",
      "    method: latin-hypercube\r\n",
      "    n_samples: 25\r\n",
      "  dimensions:\r\n",
      "    - variable: zeff\r\n",
      "      operator: multiply\r\n",
      "      values: [0.8, 0.9, 1.0, 1.1, 1.2]\r\n",
      "    - variable: t_e\r\n",
      "      operator: multiply\r\n",
      "      values: [0.8, 0.9, 1.0, 1.1, 1.2]\r\n",
      "    - variable: major_radius\r\n",
      "      operator: copyto\r\n",
      "      {# Convert units from IDS (m) to Jetto.jset (cm) -#}\r\n",
      "      values: [ {{ (variables.major_radius * 100) | round(4) }} ]\r\n",
      "    - variable: b_field\r\n",
      "      operator: copyto\r\n",
      "      values: [ {{ variables.b_field | round(4) }} ]\r\n",
      "    - variable: t_start\r\n",
      "      operator: copyto\r\n",
      "      values: [ {{ variables.t_start | round(4) }} ]\r\n",
      "    - variable: t_end\r\n",
      "      operator: copyto\r\n",
      "      values: [ {{ (variables.t_start + 0.01) | round(4) }} ]\r\n",
      "system: jetto-v220922"
     ]
    }
   ],
   "source": [
    "%cat duqtools.template.yaml"
   ]
  },
  {
   "cell_type": "markdown",
   "id": "5eaaa2f2",
   "metadata": {},
   "source": [
    "Using `duqtools setup` replaces the `handle` attributes with the imas location given on the CLI, and the `run.name` with the name of the run."
   ]
  },
  {
   "cell_type": "code",
   "execution_count": 16,
   "id": "5fe5798a",
   "metadata": {},
   "outputs": [
    {
     "name": "stdout",
     "output_type": "stream",
     "text": [
      "\r\n",
      "\u001b[31m\u001b[1mOperations in the Queue:\u001b[0m\r\n",
      "\u001b[31m\u001b[1m========================\u001b[0m\r\n",
      "- \u001b[32mSetup run\u001b[0m : my_run\r\n",
      "\u001b[31m\u001b[1mApplying Operations\u001b[0m\r\n",
      "1\r\n",
      "\r\n",
      "\r",
      "  0%|                                                     | 0/1 [00:00<?, ?it/s]\u001b[A\r\n",
      "\r",
      "Progress:   0%|                                           | 0/1 [00:00<?, ?it/s]\u001b[A\r",
      "\r",
      "\u001b[32mSetup run\u001b[0m : my_run: \r",
      "\u001b[32mSetup run\u001b[0m : my_run: \r\n",
      "\r",
      "Progress: 100%|██████████████████████████████████| 1/1 [00:00<00:00, 415.03it/s]\r\n"
     ]
    }
   ],
   "source": [
    "!duqtools setup --handle g2aho/jet/90350/2 --run_name my_run --yes"
   ]
  },
  {
   "cell_type": "markdown",
   "id": "e1224213",
   "metadata": {},
   "source": [
    "Below is what the resulting `duqtools.yaml` looks like. It can be modified or directly used as input for `duqtools create`."
   ]
  },
  {
   "cell_type": "code",
   "execution_count": 17,
   "id": "46517057",
   "metadata": {},
   "outputs": [
    {
     "name": "stdout",
     "output_type": "stream",
     "text": [
      "tag: my_run\r\n",
      "create:\r\n",
      "  runs_dir: /afs/eufus.eu/user/g/g2ssmee/jetto_runs/my_run\r\n",
      "  template: /afs/eufus.eu/user/g/g2ssmee/jetto_runs/interpretive_esco02\r\n",
      "  template_data:\r\n",
      "    user: g2aho\r\n",
      "    db: jet\r\n",
      "    shot: 90350\r\n",
      "    run: 2\r\n",
      "  sampler:\r\n",
      "    method: latin-hypercube\r\n",
      "    n_samples: 25\r\n",
      "  dimensions:\r\n",
      "    - variable: zeff\r\n",
      "      operator: multiply\r\n",
      "      values: [0.8, 0.9, 1.0, 1.1, 1.2]\r\n",
      "    - variable: t_e\r\n",
      "      operator: multiply\r\n",
      "      values: [0.8, 0.9, 1.0, 1.1, 1.2]\r\n",
      "    - variable: major_radius\r\n",
      "      operator: copyto\r\n",
      "      values: [ 296.0 ]\r\n",
      "    - variable: b_field\r\n",
      "      operator: copyto\r\n",
      "      values: [ 2.1155 ]\r\n",
      "    - variable: t_start\r\n",
      "      operator: copyto\r\n",
      "      values: [ 45.75 ]\r\n",
      "    - variable: t_end\r\n",
      "      operator: copyto\r\n",
      "      values: [ 45.76 ]\r\n",
      "system: jetto-v220922"
     ]
    }
   ],
   "source": [
    "%cat my_run/duqtools.yaml"
   ]
  },
  {
   "cell_type": "code",
   "execution_count": null,
   "id": "70c11ea6",
   "metadata": {},
   "outputs": [],
   "source": []
  }
 ],
 "metadata": {
  "kernelspec": {
   "display_name": ".venv",
   "language": "python",
   "name": ".venv"
  },
  "language_info": {
   "codemirror_mode": {
    "name": "ipython",
    "version": 3
   },
   "file_extension": ".py",
   "mimetype": "text/x-python",
   "name": "python",
   "nbconvert_exporter": "python",
   "pygments_lexer": "ipython3",
   "version": "3.10.2"
  }
 },
 "nbformat": 4,
 "nbformat_minor": 5
}
