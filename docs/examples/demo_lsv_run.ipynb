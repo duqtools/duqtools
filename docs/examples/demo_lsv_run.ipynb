{
 "cells": [
  {
   "cell_type": "markdown",
   "id": "2e3c1974",
   "metadata": {},
   "source": [
    "# Duqduq demo: large scale validation\n",
    "\n",
    "This notebook shows how to use [duqtools](https://duqtools.readthedocs.org) to large scale validation.\n",
    "\n",
    "It will go over the steps required to do uncertainty quantification from a sequence of data sets.\n",
    "\n",
    "Where `duqtools` does UQ for a single data set, `duqduq` loops over multiple datasets to do UQ in sequence.\n",
    "\n",
    "We define 2 directories:\n",
    "\n",
    "- **duqduq directory**, this is where the duqtools and UQ config resides. This is also the directory we work in with duqduq.\n",
    "- **run directory**, this is a directory where slurm has access and where all the simulation files and data are stored."
   ]
  },
  {
   "cell_type": "code",
   "execution_count": 1,
   "id": "f513699f",
   "metadata": {},
   "outputs": [],
   "source": [
    "from pathlib import Path\n",
    "\n",
    "duqtools_dir = Path('/afs/eufus.eu/user/g/g2ssmee/duqduq_demo')\n",
    "duqtools_dir_done = Path('/afs/eufus.eu/user/g/g2ssmee/duqduq_demo_done')\n",
    "run_dir = Path('/afs/eufus.eu/user/g/g2ssmee/jetto_runs/duqduq_long')\n",
    "\n",
    "import os\n",
    "\n",
    "os.chdir(duqtools_dir)"
   ]
  },
  {
   "cell_type": "markdown",
   "id": "a9263477",
   "metadata": {},
   "source": [
    "## `duqduq help`\n",
    "\n",
    "The main interface for duqduq is via the CLI. You can run `duqduq --help` to give a list of available subcommands.\n",
    "\n",
    "You will notice that the subcommands here mimic what is available in `duqtools`."
   ]
  },
  {
   "cell_type": "code",
   "execution_count": 2,
   "id": "2b25c2ff",
   "metadata": {},
   "outputs": [
    {
     "name": "stdout",
     "output_type": "stream",
     "text": [
      "Usage: duqduq [OPTIONS] COMMAND [ARGS]...\r\n",
      "\r\n",
      "  For more information, check out the documentation:\r\n",
      "\r\n",
      "  https://duqtools.readthedocs.io/large_scale_validation\r\n",
      "\r\n",
      "Options:\r\n",
      "  --help  Show this message and exit.\r\n",
      "\r\n",
      "Commands:\r\n",
      "  create  Create data sets for large scale validation.\r\n",
      "  merge   Merge data sets with error propagation.\r\n",
      "  setup   Set up large scale validation.\r\n",
      "  status  Check status large scale validation runs.\r\n",
      "  submit  Submit large scale validation runs.\r\n"
     ]
    }
   ],
   "source": [
    "!duqduq --help"
   ]
  },
  {
   "cell_type": "markdown",
   "id": "42a15152",
   "metadata": {},
   "source": [
    "## `duqduq setup`\n",
    "\n",
    "The starting point for `duqduq` is 2 files:\n",
    "\n",
    "- `duqtools.template.yaml`, this is the template config that `duqduq setup` will use to generate the `duqtools.yaml`\n",
    "- `data.csv`, each entry in this csv file corresponds to an IMAS data set\n",
    "\n",
    "Below is an example `data.csv` file. This is how you tell `duqduq` which data to do UQ for."
   ]
  },
  {
   "cell_type": "code",
   "execution_count": 3,
   "id": "4b1cc00a",
   "metadata": {},
   "outputs": [
    {
     "name": "stdout",
     "output_type": "stream",
     "text": [
      ",user,db,shot,run\r\n",
      "data_01,g2aho,aug,36982,0002\r\n",
      "data_02,g2aho,jet,75225,0002\r\n",
      "data_03,g2aho,jet,90350,0002\r\n",
      "data_04,g2aho,jet,92432,0002\r\n",
      "data_05,g2aho,jet,94875,0001\r\n",
      "data_06,g2aho,tcv,64958,0002\r\n",
      "data_07,g2aho,west,54568,0001\r\n",
      "data_08,g2aho,west,54728,0001\r\n",
      "data_09,g2aho,west,55181,0001\r\n",
      "data_10,g2aho,west,55525,0001\r\n"
     ]
    }
   ],
   "source": [
    "%cat data.csv"
   ]
  },
  {
   "cell_type": "markdown",
   "id": "02c5baa0",
   "metadata": {},
   "source": [
    "Below is an example `duqtools.template.yaml`.\n",
    "\n",
    "The index of each entry in `data.csv` file will be used as the run name (`run.name`).\n",
    "\n",
    "The details for each entry in `data.csv` will be written to the `template_data` section.\n",
    "\n",
    "Machine/dataset specific parameters, such as major radius or the start time are grabbed from the IDS. \n",
    "\n",
    "For more information, see the [documentation](https://duqtools.readthedocs.io/en/latest/large_scale_validation/) for large scale validation."
   ]
  },
  {
   "cell_type": "code",
   "execution_count": 4,
   "id": "8cfc1350",
   "metadata": {},
   "outputs": [
    {
     "name": "stdout",
     "output_type": "stream",
     "text": [
      "tag: {{ run.name }}\r\n",
      "create:\r\n",
      "  runs_dir: /afs/eufus.eu/user/g/g2ssmee/jetto_runs/duqduq_long/{{ run.name }}\r\n",
      "  template: /afs/eufus.eu/user/g/g2ssmee/jetto_runs/interpretive_esco02\r\n",
      "  template_data:\r\n",
      "    user: {{ handle.user }}\r\n",
      "    db: {{ handle.db }}\r\n",
      "    shot: {{ handle.shot }}\r\n",
      "    run: {{ handle.run }}\r\n",
      "  operations:\r\n",
      "    - variable: major_radius\r\n",
      "      operator: copyto\r\n",
      "      {# Convert units from IDS (m) to Jetto.jset (cm) -#}\r\n",
      "      value: {{ (variables.major_radius * 100) | round(4) }}\r\n",
      "    - variable: b_field\r\n",
      "      operator: copyto\r\n",
      "      value: {{ variables.b_field | round(4) }}\r\n",
      "    - variable: t_start\r\n",
      "      operator: copyto\r\n",
      "      value: {{ variables.t_start | round(4) }}\r\n",
      "    - variable: t_end\r\n",
      "      operator: copyto\r\n",
      "      value: {{ (variables.t_start + 1.0) | round(4) }}\r\n",
      "  sampler:\r\n",
      "    method: latin-hypercube\r\n",
      "    n_samples: 9\r\n",
      "  dimensions:\r\n",
      "    - variable: zeff\r\n",
      "      operator: multiply\r\n",
      "      values: [0.8, 1.0, 1.2]\r\n",
      "    - variable: t_e\r\n",
      "      operator: multiply\r\n",
      "      values: [0.8, 1.0, 1.2]\r\n",
      "system: jetto-v220922"
     ]
    }
   ],
   "source": [
    "%cat duqtools.template.yaml"
   ]
  },
  {
   "cell_type": "markdown",
   "id": "53c0c8a0",
   "metadata": {},
   "source": [
    "Running `duqduq setup` will generate a new directory for each dataset in `data.csv`. Each directory is in itself a valid **duqtools directory**."
   ]
  },
  {
   "cell_type": "code",
   "execution_count": 5,
   "id": "377d2495",
   "metadata": {},
   "outputs": [
    {
     "name": "stdout",
     "output_type": "stream",
     "text": [
      "\n",
      "\u001b[31m\u001b[1mOperations in the Queue:\u001b[0m\n",
      "\u001b[31m\u001b[1m========================\u001b[0m\n",
      "- \u001b[32mSetup run\u001b[0m : data_01\n",
      "- \u001b[32mSetup run\u001b[0m : data_02\n",
      "- \u001b[32mSetup run\u001b[0m : data_03\n",
      "- \u001b[32mSetup run\u001b[0m : data_04\n",
      "- \u001b[32mSetup run\u001b[0m : data_05\n",
      "- \u001b[32mSetup run\u001b[0m : data_06\n",
      "- \u001b[32mSetup run\u001b[0m : data_07\n",
      "- \u001b[32mSetup run\u001b[0m : data_08\n",
      "- \u001b[32mSetup run\u001b[0m : data_09\n",
      "- \u001b[32mSetup run\u001b[0m : data_10\n",
      "\u001b[31m\u001b[1mApplying Operations\u001b[0m\n",
      "10\n",
      "\n",
      "  0%|                                                    | 0/10 [00:00<?, ?it/s]\u001b[A\n",
      "\u001b[32mSetup run\u001b[0m : data_10:                            | 0/10 [00:00<?, ?it/s]\u001b[A\n",
      "Progress: 100%|████████████████████████████████| 10/10 [00:00<00:00, 618.00it/s]\n"
     ]
    }
   ],
   "source": [
    "!duqduq setup --yes --force"
   ]
  },
  {
   "cell_type": "markdown",
   "id": "2373c6df",
   "metadata": {},
   "source": [
    "This is what the directory looks like after setup."
   ]
  },
  {
   "cell_type": "code",
   "execution_count": 6,
   "id": "228e8f04",
   "metadata": {},
   "outputs": [
    {
     "name": "stdout",
     "output_type": "stream",
     "text": [
      ".\r\n",
      "├── data_01\r\n",
      "│   └── duqtools.yaml\r\n",
      "├── data_02\r\n",
      "│   └── duqtools.yaml\r\n",
      "├── data_03\r\n",
      "│   └── duqtools.yaml\r\n",
      "├── data_04\r\n",
      "│   └── duqtools.yaml\r\n",
      "├── data_05\r\n",
      "│   └── duqtools.yaml\r\n",
      "├── data_06\r\n",
      "│   └── duqtools.yaml\r\n",
      "├── data_07\r\n",
      "│   └── duqtools.yaml\r\n",
      "├── data_08\r\n",
      "│   └── duqtools.yaml\r\n",
      "├── data_09\r\n",
      "│   └── duqtools.yaml\r\n",
      "├── data_10\r\n",
      "│   └── duqtools.yaml\r\n",
      "├── data.csv\r\n",
      "├── duqtools.log\r\n",
      "└── duqtools.template.yaml\r\n",
      "\r\n",
      "10 directories, 13 files\r\n"
     ]
    }
   ],
   "source": [
    "!tree ."
   ]
  },
  {
   "cell_type": "markdown",
   "id": "2121c3f0",
   "metadata": {},
   "source": [
    "It creates a duqtools config in each of the subdirectories. At this stage you could modify each of the `duqtools.yaml` if you wish. The config is no different than for a single UQ run. This means you could do`cd data_01` and treat it as a single UQ run."
   ]
  },
  {
   "cell_type": "code",
   "execution_count": 7,
   "id": "f53e300d",
   "metadata": {},
   "outputs": [
    {
     "name": "stdout",
     "output_type": "stream",
     "text": [
      "tag: data_01\r\n",
      "create:\r\n",
      "  runs_dir: /afs/eufus.eu/user/g/g2ssmee/jetto_runs/duqduq_long/data_01\r\n",
      "  template: /afs/eufus.eu/user/g/g2ssmee/jetto_runs/interpretive_esco02\r\n",
      "  template_data:\r\n",
      "    user: g2aho\r\n",
      "    db: aug\r\n",
      "    shot: 36982\r\n",
      "    run: 2\r\n",
      "  sampler:\r\n",
      "    method: latin-hypercube\r\n",
      "    n_samples: 9\r\n",
      "  dimensions:\r\n",
      "    - variable: zeff\r\n",
      "      operator: multiply\r\n",
      "      values: [0.8, 1.0, 1.2]\r\n",
      "    - variable: t_e\r\n",
      "      operator: multiply\r\n",
      "      values: [0.8, 1.0, 1.2]\r\n",
      "    - variable: major_radius\r\n",
      "      operator: copyto\r\n",
      "      values: [ 165.0 ]\r\n",
      "    - variable: b_field\r\n",
      "      operator: copyto\r\n",
      "      values: [ -2.5725 ]\r\n",
      "    - variable: t_start\r\n",
      "      operator: copyto\r\n",
      "      values: [ 2.875 ]\r\n",
      "    - variable: t_end\r\n",
      "      operator: copyto\r\n",
      "      values: [ 3.875 ]\r\n",
      "system: jetto-v220922"
     ]
    }
   ],
   "source": [
    "%cat data_01/duqtools.yaml"
   ]
  },
  {
   "cell_type": "markdown",
   "id": "55385b3d",
   "metadata": {},
   "source": [
    "## Create runs using `duqduq create`\n",
    "\n",
    "This is the equivalent of `duqtools create`, but for a large number of runs.\n",
    "\n",
    "It will take each of the duqtools configs generated and set up the jetto runs and imas data according to the specification.\n",
    "\n",
    "Since this will take a long time, we will use the `--dry_run` option."
   ]
  },
  {
   "cell_type": "code",
   "execution_count": 8,
   "id": "a76f8e3e",
   "metadata": {
    "scrolled": true
   },
   "outputs": [
    {
     "name": "stdout",
     "output_type": "stream",
     "text": [
      "\u001b[33m15:07:19 [WARNING] Python module 'omas' not found. Submodule 'jams' needs it @jams.py:14\u001b[0m\n",
      "\u001b[33m15:07:19 [WARNING] Python module 'netCDF4' not found. Submodule 'transp' needs it @transp.py:25\u001b[0m\n",
      "\n",
      "\u001b[31m\u001b[1mOperations in the Queue:\u001b[0m\n",
      "\u001b[31m\u001b[1m========================\u001b[0m\n",
      "- \u001b[32mCreating run\u001b[0m : /gss_efgw_work/work/g2ssmee/jetto/runs/duqduq_long/data_01/run_0000\n",
      "- \u001b[32mCreating run\u001b[0m : /gss_efgw_work/work/g2ssmee/jetto/runs/duqduq_long/data_01/run_0001\n",
      "- \u001b[32mCreating run\u001b[0m : /gss_efgw_work/work/g2ssmee/jetto/runs/duqduq_long/data_01/run_0002\n",
      "- \u001b[32mCreating run\u001b[0m : /gss_efgw_work/work/g2ssmee/jetto/runs/duqduq_long/data_01/run_0003\n",
      "- \u001b[32mCreating run\u001b[0m : /gss_efgw_work/work/g2ssmee/jetto/runs/duqduq_long/data_01/run_0004\n",
      "- \u001b[32mCreating run\u001b[0m : /gss_efgw_work/work/g2ssmee/jetto/runs/duqduq_long/data_01/run_0005\n",
      "- \u001b[32mCreating run\u001b[0m : /gss_efgw_work/work/g2ssmee/jetto/runs/duqduq_long/data_01/run_0006\n",
      "- \u001b[32mCreating run\u001b[0m : /gss_efgw_work/work/g2ssmee/jetto/runs/duqduq_long/data_01/run_0007\n",
      "- \u001b[32mCreating run\u001b[0m : /gss_efgw_work/work/g2ssmee/jetto/runs/duqduq_long/data_01/run_0008\n",
      "- \u001b[32mCreating run\u001b[0m : /gss_efgw_work/work/g2ssmee/jetto/runs/duqduq_long/data_02/run_0000\n",
      "- \u001b[32mCreating run\u001b[0m : /gss_efgw_work/work/g2ssmee/jetto/runs/duqduq_long/data_02/run_0001\n",
      "- \u001b[32mCreating run\u001b[0m : /gss_efgw_work/work/g2ssmee/jetto/runs/duqduq_long/data_02/run_0002\n",
      "- \u001b[32mCreating run\u001b[0m : /gss_efgw_work/work/g2ssmee/jetto/runs/duqduq_long/data_02/run_0003\n",
      "- \u001b[32mCreating run\u001b[0m : /gss_efgw_work/work/g2ssmee/jetto/runs/duqduq_long/data_02/run_0004\n",
      "- \u001b[32mCreating run\u001b[0m : /gss_efgw_work/work/g2ssmee/jetto/runs/duqduq_long/data_02/run_0005\n",
      "- \u001b[32mCreating run\u001b[0m : /gss_efgw_work/work/g2ssmee/jetto/runs/duqduq_long/data_02/run_0006\n",
      "- \u001b[32mCreating run\u001b[0m : /gss_efgw_work/work/g2ssmee/jetto/runs/duqduq_long/data_02/run_0007\n",
      "- \u001b[32mCreating run\u001b[0m : /gss_efgw_work/work/g2ssmee/jetto/runs/duqduq_long/data_02/run_0008\n",
      "- \u001b[32mCreating run\u001b[0m : /gss_efgw_work/work/g2ssmee/jetto/runs/duqduq_long/data_03/run_0000\n",
      "- \u001b[32mCreating run\u001b[0m : /gss_efgw_work/work/g2ssmee/jetto/runs/duqduq_long/data_03/run_0001\n",
      "- \u001b[32mCreating run\u001b[0m : /gss_efgw_work/work/g2ssmee/jetto/runs/duqduq_long/data_03/run_0002\n",
      "- \u001b[32mCreating run\u001b[0m : /gss_efgw_work/work/g2ssmee/jetto/runs/duqduq_long/data_03/run_0003\n",
      "- \u001b[32mCreating run\u001b[0m : /gss_efgw_work/work/g2ssmee/jetto/runs/duqduq_long/data_03/run_0004\n",
      "- \u001b[32mCreating run\u001b[0m : /gss_efgw_work/work/g2ssmee/jetto/runs/duqduq_long/data_03/run_0005\n",
      "- \u001b[32mCreating run\u001b[0m : /gss_efgw_work/work/g2ssmee/jetto/runs/duqduq_long/data_03/run_0006\n",
      "- \u001b[32mCreating run\u001b[0m : /gss_efgw_work/work/g2ssmee/jetto/runs/duqduq_long/data_03/run_0007\n",
      "- \u001b[32mCreating run\u001b[0m : /gss_efgw_work/work/g2ssmee/jetto/runs/duqduq_long/data_03/run_0008\n",
      "- \u001b[32mCreating run\u001b[0m : /gss_efgw_work/work/g2ssmee/jetto/runs/duqduq_long/data_04/run_0000\n",
      "- \u001b[32mCreating run\u001b[0m : /gss_efgw_work/work/g2ssmee/jetto/runs/duqduq_long/data_04/run_0001\n",
      "- \u001b[32mCreating run\u001b[0m : /gss_efgw_work/work/g2ssmee/jetto/runs/duqduq_long/data_04/run_0002\n",
      "- \u001b[32mCreating run\u001b[0m : /gss_efgw_work/work/g2ssmee/jetto/runs/duqduq_long/data_04/run_0003\n",
      "- \u001b[32mCreating run\u001b[0m : /gss_efgw_work/work/g2ssmee/jetto/runs/duqduq_long/data_04/run_0004\n",
      "- \u001b[32mCreating run\u001b[0m : /gss_efgw_work/work/g2ssmee/jetto/runs/duqduq_long/data_04/run_0005\n",
      "- \u001b[32mCreating run\u001b[0m : /gss_efgw_work/work/g2ssmee/jetto/runs/duqduq_long/data_04/run_0006\n",
      "- \u001b[32mCreating run\u001b[0m : /gss_efgw_work/work/g2ssmee/jetto/runs/duqduq_long/data_04/run_0007\n",
      "- \u001b[32mCreating run\u001b[0m : /gss_efgw_work/work/g2ssmee/jetto/runs/duqduq_long/data_04/run_0008\n",
      "- \u001b[32mCreating run\u001b[0m : /gss_efgw_work/work/g2ssmee/jetto/runs/duqduq_long/data_05/run_0000\n",
      "- \u001b[32mCreating run\u001b[0m : /gss_efgw_work/work/g2ssmee/jetto/runs/duqduq_long/data_05/run_0001\n",
      "- \u001b[32mCreating run\u001b[0m : /gss_efgw_work/work/g2ssmee/jetto/runs/duqduq_long/data_05/run_0002\n",
      "- \u001b[32mCreating run\u001b[0m : /gss_efgw_work/work/g2ssmee/jetto/runs/duqduq_long/data_05/run_0003\n",
      "- \u001b[32mCreating run\u001b[0m : /gss_efgw_work/work/g2ssmee/jetto/runs/duqduq_long/data_05/run_0004\n",
      "- \u001b[32mCreating run\u001b[0m : /gss_efgw_work/work/g2ssmee/jetto/runs/duqduq_long/data_05/run_0005\n",
      "- \u001b[32mCreating run\u001b[0m : /gss_efgw_work/work/g2ssmee/jetto/runs/duqduq_long/data_05/run_0006\n",
      "- \u001b[32mCreating run\u001b[0m : /gss_efgw_work/work/g2ssmee/jetto/runs/duqduq_long/data_05/run_0007\n",
      "- \u001b[32mCreating run\u001b[0m : /gss_efgw_work/work/g2ssmee/jetto/runs/duqduq_long/data_05/run_0008\n",
      "- \u001b[32mCreating run\u001b[0m : /gss_efgw_work/work/g2ssmee/jetto/runs/duqduq_long/data_06/run_0000\n",
      "- \u001b[32mCreating run\u001b[0m : /gss_efgw_work/work/g2ssmee/jetto/runs/duqduq_long/data_06/run_0001\n",
      "- \u001b[32mCreating run\u001b[0m : /gss_efgw_work/work/g2ssmee/jetto/runs/duqduq_long/data_06/run_0002\n",
      "- \u001b[32mCreating run\u001b[0m : /gss_efgw_work/work/g2ssmee/jetto/runs/duqduq_long/data_06/run_0003\n",
      "- \u001b[32mCreating run\u001b[0m : /gss_efgw_work/work/g2ssmee/jetto/runs/duqduq_long/data_06/run_0004\n",
      "- \u001b[32mCreating run\u001b[0m : /gss_efgw_work/work/g2ssmee/jetto/runs/duqduq_long/data_06/run_0005\n",
      "- \u001b[32mCreating run\u001b[0m : /gss_efgw_work/work/g2ssmee/jetto/runs/duqduq_long/data_06/run_0006\n",
      "- \u001b[32mCreating run\u001b[0m : /gss_efgw_work/work/g2ssmee/jetto/runs/duqduq_long/data_06/run_0007\n",
      "- \u001b[32mCreating run\u001b[0m : /gss_efgw_work/work/g2ssmee/jetto/runs/duqduq_long/data_06/run_0008\n",
      "- \u001b[32mCreating run\u001b[0m : /gss_efgw_work/work/g2ssmee/jetto/runs/duqduq_long/data_07/run_0000\n",
      "- \u001b[32mCreating run\u001b[0m : /gss_efgw_work/work/g2ssmee/jetto/runs/duqduq_long/data_07/run_0001\n",
      "- \u001b[32mCreating run\u001b[0m : /gss_efgw_work/work/g2ssmee/jetto/runs/duqduq_long/data_07/run_0002\n",
      "- \u001b[32mCreating run\u001b[0m : /gss_efgw_work/work/g2ssmee/jetto/runs/duqduq_long/data_07/run_0003\n",
      "- \u001b[32mCreating run\u001b[0m : /gss_efgw_work/work/g2ssmee/jetto/runs/duqduq_long/data_07/run_0004\n",
      "- \u001b[32mCreating run\u001b[0m : /gss_efgw_work/work/g2ssmee/jetto/runs/duqduq_long/data_07/run_0005\n",
      "- \u001b[32mCreating run\u001b[0m : /gss_efgw_work/work/g2ssmee/jetto/runs/duqduq_long/data_07/run_0006\n",
      "- \u001b[32mCreating run\u001b[0m : /gss_efgw_work/work/g2ssmee/jetto/runs/duqduq_long/data_07/run_0007\n",
      "- \u001b[32mCreating run\u001b[0m : /gss_efgw_work/work/g2ssmee/jetto/runs/duqduq_long/data_07/run_0008\n",
      "- \u001b[32mCreating run\u001b[0m : /gss_efgw_work/work/g2ssmee/jetto/runs/duqduq_long/data_08/run_0000\n",
      "- \u001b[32mCreating run\u001b[0m : /gss_efgw_work/work/g2ssmee/jetto/runs/duqduq_long/data_08/run_0001\n",
      "- \u001b[32mCreating run\u001b[0m : /gss_efgw_work/work/g2ssmee/jetto/runs/duqduq_long/data_08/run_0002\n",
      "- \u001b[32mCreating run\u001b[0m : /gss_efgw_work/work/g2ssmee/jetto/runs/duqduq_long/data_08/run_0003\n",
      "- \u001b[32mCreating run\u001b[0m : /gss_efgw_work/work/g2ssmee/jetto/runs/duqduq_long/data_08/run_0004\n",
      "- \u001b[32mCreating run\u001b[0m : /gss_efgw_work/work/g2ssmee/jetto/runs/duqduq_long/data_08/run_0005\n",
      "- \u001b[32mCreating run\u001b[0m : /gss_efgw_work/work/g2ssmee/jetto/runs/duqduq_long/data_08/run_0006\n",
      "- \u001b[32mCreating run\u001b[0m : /gss_efgw_work/work/g2ssmee/jetto/runs/duqduq_long/data_08/run_0007\n",
      "- \u001b[32mCreating run\u001b[0m : /gss_efgw_work/work/g2ssmee/jetto/runs/duqduq_long/data_08/run_0008\n",
      "- \u001b[32mCreating run\u001b[0m : /gss_efgw_work/work/g2ssmee/jetto/runs/duqduq_long/data_09/run_0000\n",
      "- \u001b[32mCreating run\u001b[0m : /gss_efgw_work/work/g2ssmee/jetto/runs/duqduq_long/data_09/run_0001\n",
      "- \u001b[32mCreating run\u001b[0m : /gss_efgw_work/work/g2ssmee/jetto/runs/duqduq_long/data_09/run_0002\n",
      "- \u001b[32mCreating run\u001b[0m : /gss_efgw_work/work/g2ssmee/jetto/runs/duqduq_long/data_09/run_0003\n",
      "- \u001b[32mCreating run\u001b[0m : /gss_efgw_work/work/g2ssmee/jetto/runs/duqduq_long/data_09/run_0004\n",
      "- \u001b[32mCreating run\u001b[0m : /gss_efgw_work/work/g2ssmee/jetto/runs/duqduq_long/data_09/run_0005\n",
      "- \u001b[32mCreating run\u001b[0m : /gss_efgw_work/work/g2ssmee/jetto/runs/duqduq_long/data_09/run_0006\n",
      "- \u001b[32mCreating run\u001b[0m : /gss_efgw_work/work/g2ssmee/jetto/runs/duqduq_long/data_09/run_0007\n",
      "- \u001b[32mCreating run\u001b[0m : /gss_efgw_work/work/g2ssmee/jetto/runs/duqduq_long/data_09/run_0008\n",
      "- \u001b[32mCreating run\u001b[0m : /gss_efgw_work/work/g2ssmee/jetto/runs/duqduq_long/data_10/run_0000\n",
      "- \u001b[32mCreating run\u001b[0m : /gss_efgw_work/work/g2ssmee/jetto/runs/duqduq_long/data_10/run_0001\n",
      "- \u001b[32mCreating run\u001b[0m : /gss_efgw_work/work/g2ssmee/jetto/runs/duqduq_long/data_10/run_0002\n",
      "- \u001b[32mCreating run\u001b[0m : /gss_efgw_work/work/g2ssmee/jetto/runs/duqduq_long/data_10/run_0003\n",
      "- \u001b[32mCreating run\u001b[0m : /gss_efgw_work/work/g2ssmee/jetto/runs/duqduq_long/data_10/run_0004\n",
      "- \u001b[32mCreating run\u001b[0m : /gss_efgw_work/work/g2ssmee/jetto/runs/duqduq_long/data_10/run_0005\n",
      "- \u001b[32mCreating run\u001b[0m : /gss_efgw_work/work/g2ssmee/jetto/runs/duqduq_long/data_10/run_0006\n",
      "- \u001b[32mCreating run\u001b[0m : /gss_efgw_work/work/g2ssmee/jetto/runs/duqduq_long/data_10/run_0007\n",
      "- \u001b[32mCreating run\u001b[0m : /gss_efgw_work/work/g2ssmee/jetto/runs/duqduq_long/data_10/run_0008\n",
      "Dry run enabled, not applying op_queue\n"
     ]
    }
   ],
   "source": [
    "!duqduq create --force --dry-run"
   ]
  },
  {
   "cell_type": "markdown",
   "id": "8f7b067f",
   "metadata": {},
   "source": [
    "## Submit to slurm using `duqduq submit`\n",
    "\n",
    "Use `duqduq submit` to submit the jobs to slurm. This tool will find all jobs (`.llcmd` files in the subdirectories) and submit them to slurm.\n",
    "\n",
    "Use the `--array` option to submit the jobs as a slurm array."
   ]
  },
  {
   "cell_type": "code",
   "execution_count": 9,
   "id": "5511d126",
   "metadata": {
    "scrolled": true
   },
   "outputs": [
    {
     "name": "stdout",
     "output_type": "stream",
     "text": [
      "\u001b[33m15:07:27 [WARNING] Python module 'omas' not found. Submodule 'jams' needs it @jams.py:14\u001b[0m\n",
      "\u001b[33m15:07:27 [WARNING] Python module 'netCDF4' not found. Submodule 'transp' needs it @transp.py:25\u001b[0m\n",
      "\n",
      "\u001b[31m\u001b[1mOperations in the Queue:\u001b[0m\n",
      "\u001b[31m\u001b[1m========================\u001b[0m\n",
      "- \u001b[32mAdding to array\u001b[0m : Job('/gss_efgw_work/work/g2ssmee/jetto/runs/duqduq_long/data_01/run_0000')\n",
      "- \u001b[32mAdding to array\u001b[0m : Job('/gss_efgw_work/work/g2ssmee/jetto/runs/duqduq_long/data_01/run_0001')\n",
      "- \u001b[32mAdding to array\u001b[0m : Job('/gss_efgw_work/work/g2ssmee/jetto/runs/duqduq_long/data_01/run_0002')\n",
      "- \u001b[32mAdding to array\u001b[0m : Job('/gss_efgw_work/work/g2ssmee/jetto/runs/duqduq_long/data_01/run_0003')\n",
      "- \u001b[32mAdding to array\u001b[0m : Job('/gss_efgw_work/work/g2ssmee/jetto/runs/duqduq_long/data_01/run_0004')\n",
      "- \u001b[32mAdding to array\u001b[0m : Job('/gss_efgw_work/work/g2ssmee/jetto/runs/duqduq_long/data_01/run_0005')\n",
      "- \u001b[32mAdding to array\u001b[0m : Job('/gss_efgw_work/work/g2ssmee/jetto/runs/duqduq_long/data_01/run_0006')\n",
      "- \u001b[32mAdding to array\u001b[0m : Job('/gss_efgw_work/work/g2ssmee/jetto/runs/duqduq_long/data_01/run_0007')\n",
      "- \u001b[32mAdding to array\u001b[0m : Job('/gss_efgw_work/work/g2ssmee/jetto/runs/duqduq_long/data_01/run_0008')\n",
      "- \u001b[32mAdding to array\u001b[0m : Job('/gss_efgw_work/work/g2ssmee/jetto/runs/duqduq_long/data_02/run_0000')\n",
      "- \u001b[32mAdding to array\u001b[0m : Job('/gss_efgw_work/work/g2ssmee/jetto/runs/duqduq_long/data_02/run_0001')\n",
      "- \u001b[32mAdding to array\u001b[0m : Job('/gss_efgw_work/work/g2ssmee/jetto/runs/duqduq_long/data_02/run_0002')\n",
      "- \u001b[32mAdding to array\u001b[0m : Job('/gss_efgw_work/work/g2ssmee/jetto/runs/duqduq_long/data_02/run_0003')\n",
      "- \u001b[32mAdding to array\u001b[0m : Job('/gss_efgw_work/work/g2ssmee/jetto/runs/duqduq_long/data_02/run_0004')\n",
      "- \u001b[32mAdding to array\u001b[0m : Job('/gss_efgw_work/work/g2ssmee/jetto/runs/duqduq_long/data_02/run_0005')\n",
      "- \u001b[32mAdding to array\u001b[0m : Job('/gss_efgw_work/work/g2ssmee/jetto/runs/duqduq_long/data_02/run_0006')\n",
      "- \u001b[32mAdding to array\u001b[0m : Job('/gss_efgw_work/work/g2ssmee/jetto/runs/duqduq_long/data_02/run_0007')\n",
      "- \u001b[32mAdding to array\u001b[0m : Job('/gss_efgw_work/work/g2ssmee/jetto/runs/duqduq_long/data_02/run_0008')\n",
      "- \u001b[32mAdding to array\u001b[0m : Job('/gss_efgw_work/work/g2ssmee/jetto/runs/duqduq_long/data_03/run_0000')\n",
      "- \u001b[32mAdding to array\u001b[0m : Job('/gss_efgw_work/work/g2ssmee/jetto/runs/duqduq_long/data_03/run_0001')\n",
      "- \u001b[32mAdding to array\u001b[0m : Job('/gss_efgw_work/work/g2ssmee/jetto/runs/duqduq_long/data_03/run_0002')\n",
      "- \u001b[32mAdding to array\u001b[0m : Job('/gss_efgw_work/work/g2ssmee/jetto/runs/duqduq_long/data_03/run_0003')\n",
      "- \u001b[32mAdding to array\u001b[0m : Job('/gss_efgw_work/work/g2ssmee/jetto/runs/duqduq_long/data_03/run_0004')\n",
      "- \u001b[32mAdding to array\u001b[0m : Job('/gss_efgw_work/work/g2ssmee/jetto/runs/duqduq_long/data_03/run_0005')\n",
      "- \u001b[32mAdding to array\u001b[0m : Job('/gss_efgw_work/work/g2ssmee/jetto/runs/duqduq_long/data_03/run_0006')\n",
      "- \u001b[32mAdding to array\u001b[0m : Job('/gss_efgw_work/work/g2ssmee/jetto/runs/duqduq_long/data_03/run_0007')\n",
      "- \u001b[32mAdding to array\u001b[0m : Job('/gss_efgw_work/work/g2ssmee/jetto/runs/duqduq_long/data_03/run_0008')\n",
      "- \u001b[32mAdding to array\u001b[0m : Job('/gss_efgw_work/work/g2ssmee/jetto/runs/duqduq_long/data_04/run_0000')\n",
      "- \u001b[32mAdding to array\u001b[0m : Job('/gss_efgw_work/work/g2ssmee/jetto/runs/duqduq_long/data_04/run_0001')\n",
      "- \u001b[32mAdding to array\u001b[0m : Job('/gss_efgw_work/work/g2ssmee/jetto/runs/duqduq_long/data_04/run_0002')\n",
      "- \u001b[32mAdding to array\u001b[0m : Job('/gss_efgw_work/work/g2ssmee/jetto/runs/duqduq_long/data_04/run_0003')\n",
      "- \u001b[32mAdding to array\u001b[0m : Job('/gss_efgw_work/work/g2ssmee/jetto/runs/duqduq_long/data_04/run_0004')\n",
      "- \u001b[32mAdding to array\u001b[0m : Job('/gss_efgw_work/work/g2ssmee/jetto/runs/duqduq_long/data_04/run_0005')\n",
      "- \u001b[32mAdding to array\u001b[0m : Job('/gss_efgw_work/work/g2ssmee/jetto/runs/duqduq_long/data_04/run_0006')\n",
      "- \u001b[32mAdding to array\u001b[0m : Job('/gss_efgw_work/work/g2ssmee/jetto/runs/duqduq_long/data_04/run_0007')\n",
      "- \u001b[32mAdding to array\u001b[0m : Job('/gss_efgw_work/work/g2ssmee/jetto/runs/duqduq_long/data_04/run_0008')\n",
      "- \u001b[32mAdding to array\u001b[0m : Job('/gss_efgw_work/work/g2ssmee/jetto/runs/duqduq_long/data_05/run_0000')\n",
      "- \u001b[32mAdding to array\u001b[0m : Job('/gss_efgw_work/work/g2ssmee/jetto/runs/duqduq_long/data_05/run_0001')\n",
      "- \u001b[32mAdding to array\u001b[0m : Job('/gss_efgw_work/work/g2ssmee/jetto/runs/duqduq_long/data_05/run_0002')\n",
      "- \u001b[32mAdding to array\u001b[0m : Job('/gss_efgw_work/work/g2ssmee/jetto/runs/duqduq_long/data_05/run_0003')\n",
      "- \u001b[32mAdding to array\u001b[0m : Job('/gss_efgw_work/work/g2ssmee/jetto/runs/duqduq_long/data_05/run_0004')\n",
      "- \u001b[32mAdding to array\u001b[0m : Job('/gss_efgw_work/work/g2ssmee/jetto/runs/duqduq_long/data_05/run_0005')\n",
      "- \u001b[32mAdding to array\u001b[0m : Job('/gss_efgw_work/work/g2ssmee/jetto/runs/duqduq_long/data_05/run_0006')\n",
      "- \u001b[32mAdding to array\u001b[0m : Job('/gss_efgw_work/work/g2ssmee/jetto/runs/duqduq_long/data_05/run_0007')\n",
      "- \u001b[32mAdding to array\u001b[0m : Job('/gss_efgw_work/work/g2ssmee/jetto/runs/duqduq_long/data_05/run_0008')\n",
      "- \u001b[32mAdding to array\u001b[0m : Job('/gss_efgw_work/work/g2ssmee/jetto/runs/duqduq_long/data_07/run_0000')\n",
      "- \u001b[32mAdding to array\u001b[0m : Job('/gss_efgw_work/work/g2ssmee/jetto/runs/duqduq_long/data_07/run_0001')\n",
      "- \u001b[32mAdding to array\u001b[0m : Job('/gss_efgw_work/work/g2ssmee/jetto/runs/duqduq_long/data_07/run_0002')\n",
      "- \u001b[32mAdding to array\u001b[0m : Job('/gss_efgw_work/work/g2ssmee/jetto/runs/duqduq_long/data_07/run_0003')\n",
      "- \u001b[32mAdding to array\u001b[0m : Job('/gss_efgw_work/work/g2ssmee/jetto/runs/duqduq_long/data_07/run_0004')\n",
      "- \u001b[32mAdding to array\u001b[0m : Job('/gss_efgw_work/work/g2ssmee/jetto/runs/duqduq_long/data_07/run_0005')\n",
      "- \u001b[32mAdding to array\u001b[0m : Job('/gss_efgw_work/work/g2ssmee/jetto/runs/duqduq_long/data_07/run_0006')\n",
      "- \u001b[32mAdding to array\u001b[0m : Job('/gss_efgw_work/work/g2ssmee/jetto/runs/duqduq_long/data_07/run_0007')\n",
      "- \u001b[32mAdding to array\u001b[0m : Job('/gss_efgw_work/work/g2ssmee/jetto/runs/duqduq_long/data_07/run_0008')\n",
      "- \u001b[32mAdding to array\u001b[0m : Job('/gss_efgw_work/work/g2ssmee/jetto/runs/duqduq_long/data_08/run_0000')\n",
      "- \u001b[32mAdding to array\u001b[0m : Job('/gss_efgw_work/work/g2ssmee/jetto/runs/duqduq_long/data_08/run_0001')\n",
      "- \u001b[32mAdding to array\u001b[0m : Job('/gss_efgw_work/work/g2ssmee/jetto/runs/duqduq_long/data_08/run_0002')\n",
      "- \u001b[32mAdding to array\u001b[0m : Job('/gss_efgw_work/work/g2ssmee/jetto/runs/duqduq_long/data_08/run_0003')\n",
      "- \u001b[32mAdding to array\u001b[0m : Job('/gss_efgw_work/work/g2ssmee/jetto/runs/duqduq_long/data_08/run_0004')\n",
      "- \u001b[32mAdding to array\u001b[0m : Job('/gss_efgw_work/work/g2ssmee/jetto/runs/duqduq_long/data_08/run_0005')\n",
      "- \u001b[32mAdding to array\u001b[0m : Job('/gss_efgw_work/work/g2ssmee/jetto/runs/duqduq_long/data_08/run_0006')\n",
      "- \u001b[32mAdding to array\u001b[0m : Job('/gss_efgw_work/work/g2ssmee/jetto/runs/duqduq_long/data_08/run_0007')\n",
      "- \u001b[32mAdding to array\u001b[0m : Job('/gss_efgw_work/work/g2ssmee/jetto/runs/duqduq_long/data_08/run_0008')\n",
      "- \u001b[32mAdding to array\u001b[0m : Job('/gss_efgw_work/work/g2ssmee/jetto/runs/duqduq_long/data_09/run_0000')\n",
      "- \u001b[32mAdding to array\u001b[0m : Job('/gss_efgw_work/work/g2ssmee/jetto/runs/duqduq_long/data_09/run_0001')\n",
      "- \u001b[32mAdding to array\u001b[0m : Job('/gss_efgw_work/work/g2ssmee/jetto/runs/duqduq_long/data_09/run_0002')\n",
      "- \u001b[32mAdding to array\u001b[0m : Job('/gss_efgw_work/work/g2ssmee/jetto/runs/duqduq_long/data_09/run_0003')\n",
      "- \u001b[32mAdding to array\u001b[0m : Job('/gss_efgw_work/work/g2ssmee/jetto/runs/duqduq_long/data_09/run_0004')\n",
      "- \u001b[32mAdding to array\u001b[0m : Job('/gss_efgw_work/work/g2ssmee/jetto/runs/duqduq_long/data_09/run_0005')\n",
      "- \u001b[32mAdding to array\u001b[0m : Job('/gss_efgw_work/work/g2ssmee/jetto/runs/duqduq_long/data_09/run_0006')\n",
      "- \u001b[32mAdding to array\u001b[0m : Job('/gss_efgw_work/work/g2ssmee/jetto/runs/duqduq_long/data_09/run_0007')\n",
      "- \u001b[32mAdding to array\u001b[0m : Job('/gss_efgw_work/work/g2ssmee/jetto/runs/duqduq_long/data_09/run_0008')\n",
      "- \u001b[32mAdding to array\u001b[0m : Job('/gss_efgw_work/work/g2ssmee/jetto/runs/duqduq_long/data_10/run_0000')\n",
      "- \u001b[32mAdding to array\u001b[0m : Job('/gss_efgw_work/work/g2ssmee/jetto/runs/duqduq_long/data_10/run_0001')\n",
      "- \u001b[32mAdding to array\u001b[0m : Job('/gss_efgw_work/work/g2ssmee/jetto/runs/duqduq_long/data_10/run_0002')\n",
      "- \u001b[32mAdding to array\u001b[0m : Job('/gss_efgw_work/work/g2ssmee/jetto/runs/duqduq_long/data_10/run_0003')\n",
      "- \u001b[32mAdding to array\u001b[0m : Job('/gss_efgw_work/work/g2ssmee/jetto/runs/duqduq_long/data_10/run_0004')\n",
      "- \u001b[32mAdding to array\u001b[0m : Job('/gss_efgw_work/work/g2ssmee/jetto/runs/duqduq_long/data_10/run_0005')\n",
      "- \u001b[32mAdding to array\u001b[0m : Job('/gss_efgw_work/work/g2ssmee/jetto/runs/duqduq_long/data_10/run_0006')\n",
      "- \u001b[32mAdding to array\u001b[0m : Job('/gss_efgw_work/work/g2ssmee/jetto/runs/duqduq_long/data_10/run_0007')\n",
      "- \u001b[32mAdding to array\u001b[0m : Job('/gss_efgw_work/work/g2ssmee/jetto/runs/duqduq_long/data_10/run_0008')\n",
      "- \u001b[32mSubmit single array job\u001b[0m : duqtools_slurm_array.sh\n",
      "Dry run enabled, not applying op_queue\n"
     ]
    }
   ],
   "source": [
    "os.chdir(duqtools_dir_done)\n",
    "!duqduq submit --array --max_jobs 10 --force --dry-run"
   ]
  },
  {
   "cell_type": "markdown",
   "id": "cf9ea182",
   "metadata": {},
   "source": [
    "## `duqduq status`\n",
    "\n",
    "Query the status using `duqduq status`. This essentially parses all the `jetto.status` files in the run directory."
   ]
  },
  {
   "cell_type": "code",
   "execution_count": 10,
   "id": "2c99fe26",
   "metadata": {},
   "outputs": [
    {
     "name": "stdout",
     "output_type": "stream",
     "text": [
      "\u001b[33m15:07:39 [WARNING] Python module 'omas' not found. Submodule 'jams' needs it @jams.py:14\u001b[0m\n",
      "\u001b[33m15:07:39 [WARNING] Python module 'netCDF4' not found. Submodule 'transp' needs it @transp.py:25\u001b[0m\n",
      "Status codes:\n",
      "\u001b[33m_\u001b[0m : no status, \u001b[32m.\u001b[0m : completed, \u001b[31mf\u001b[0m : failed, \u001b[33mr\u001b[0m : running, \u001b[33ms\u001b[0m : submitted, \u001b[33mu\u001b[0m : unknown\n",
      "\n",
      "data_01 (data_01): \u001b[32m.\u001b[0m\u001b[32m.\u001b[0m\u001b[32m.\u001b[0m\u001b[32m.\u001b[0m\u001b[32m.\u001b[0m\u001b[32m.\u001b[0m\u001b[32m.\u001b[0m\u001b[32m.\u001b[0m\u001b[32m.\u001b[0m\n",
      "data_02 (data_02): \u001b[32m.\u001b[0m\u001b[32m.\u001b[0m\u001b[32m.\u001b[0m\u001b[32m.\u001b[0m\u001b[32m.\u001b[0m\u001b[32m.\u001b[0m\u001b[32m.\u001b[0m\u001b[32m.\u001b[0m\u001b[32m.\u001b[0m\n",
      "data_03 (data_03): \u001b[32m.\u001b[0m\u001b[32m.\u001b[0m\u001b[32m.\u001b[0m\u001b[32m.\u001b[0m\u001b[32m.\u001b[0m\u001b[32m.\u001b[0m\u001b[32m.\u001b[0m\u001b[32m.\u001b[0m\u001b[32m.\u001b[0m\n",
      "data_04 (data_04): \u001b[32m.\u001b[0m\u001b[32m.\u001b[0m\u001b[32m.\u001b[0m\u001b[31mf\u001b[0m\u001b[32m.\u001b[0m\u001b[32m.\u001b[0m\u001b[31mf\u001b[0m\u001b[32m.\u001b[0m\u001b[31mf\u001b[0m\n",
      "data_05 (data_05): \u001b[31mf\u001b[0m\u001b[31mf\u001b[0m\u001b[32m.\u001b[0m\u001b[32m.\u001b[0m\u001b[32m.\u001b[0m\u001b[32m.\u001b[0m\u001b[31mf\u001b[0m\u001b[32m.\u001b[0m\u001b[32m.\u001b[0m\n",
      "data_07 (data_07): \u001b[32m.\u001b[0m\u001b[32m.\u001b[0m\u001b[32m.\u001b[0m\u001b[32m.\u001b[0m\u001b[32m.\u001b[0m\u001b[32m.\u001b[0m\u001b[32m.\u001b[0m\u001b[32m.\u001b[0m\u001b[32m.\u001b[0m\n",
      "data_08 (data_08): \u001b[32m.\u001b[0m\u001b[31mf\u001b[0m\u001b[32m.\u001b[0m\u001b[32m.\u001b[0m\u001b[31mf\u001b[0m\u001b[32m.\u001b[0m\u001b[32m.\u001b[0m\u001b[31mf\u001b[0m\u001b[32m.\u001b[0m\n",
      "data_09 (data_09): \u001b[32m.\u001b[0m\u001b[32m.\u001b[0m\u001b[32m.\u001b[0m\u001b[32m.\u001b[0m\u001b[32m.\u001b[0m\u001b[32m.\u001b[0m\u001b[32m.\u001b[0m\u001b[32m.\u001b[0m\u001b[32m.\u001b[0m\n",
      "data_10 (data_10): \u001b[32m.\u001b[0m\u001b[32m.\u001b[0m\u001b[32m.\u001b[0m\u001b[32m.\u001b[0m\u001b[32m.\u001b[0m\u001b[32m.\u001b[0m\u001b[32m.\u001b[0m\u001b[32m.\u001b[0m\u001b[32m.\u001b[0m\n",
      "\n",
      "Total number of directories with submit script     : 81\n",
      "Total number of directories with unsubmitted jobs  : 0\n",
      "Total number of directories with status script     : 81\n",
      "Total number of directories with completed status  : 72\n",
      "Total number of directories with failed status     : 9\n",
      "Total number of directories with running status    : 0\n",
      "Total number of directories with unknown status    : 0\n",
      "\n",
      "\u001b[31m\u001b[1mOperations in the Queue:\u001b[0m\n",
      "\u001b[31m\u001b[1m========================\u001b[0m\n",
      "\n",
      "No actions to execute.\n"
     ]
    }
   ],
   "source": [
    "!duqduq status"
   ]
  },
  {
   "cell_type": "markdown",
   "id": "dda65bc0",
   "metadata": {},
   "source": [
    "## Overview of LSV output directory\n",
    "\n",
    "The output of `duqduq` differs from a single run in that there is an additional directory layer with the name of the data entry. The `logs` directory contains the slurm logs."
   ]
  },
  {
   "cell_type": "code",
   "execution_count": 11,
   "id": "da1886b8",
   "metadata": {},
   "outputs": [
    {
     "name": "stdout",
     "output_type": "stream",
     "text": [
      ".\r\n",
      "├── data_01\r\n",
      "├── data_02\r\n",
      "├── data_03\r\n",
      "├── data_04\r\n",
      "├── data_05\r\n",
      "├── data_07\r\n",
      "├── data_08\r\n",
      "├── data_09\r\n",
      "├── data_10\r\n",
      "└── logs\r\n",
      "\r\n",
      "10 directories, 0 files\r\n"
     ]
    }
   ],
   "source": [
    "os.chdir(run_dir)\n",
    "!tree -L 1"
   ]
  },
  {
   "cell_type": "markdown",
   "id": "7c3d5a61",
   "metadata": {},
   "source": [
    "Each directory is a run directory as you know it from a single UQ run."
   ]
  },
  {
   "cell_type": "code",
   "execution_count": 12,
   "id": "7be5a696",
   "metadata": {
    "scrolled": true
   },
   "outputs": [
    {
     "name": "stdout",
     "output_type": "stream",
     "text": [
      "data_01\r\n",
      "├── duqtools.yaml\r\n",
      "├── imasdb\r\n",
      "├── run_0000\r\n",
      "├── run_0001\r\n",
      "├── run_0002\r\n",
      "├── run_0003\r\n",
      "├── run_0004\r\n",
      "├── run_0005\r\n",
      "├── run_0006\r\n",
      "├── run_0007\r\n",
      "├── run_0008\r\n",
      "└── runs.yaml\r\n",
      "\r\n",
      "10 directories, 2 files\r\n"
     ]
    }
   ],
   "source": [
    "!tree 'data_01' -L 1"
   ]
  },
  {
   "cell_type": "markdown",
   "id": "b12d7b2b",
   "metadata": {},
   "source": [
    "## Merge data using `duqduq merge`."
   ]
  },
  {
   "cell_type": "code",
   "execution_count": 13,
   "id": "21a04a3f",
   "metadata": {},
   "outputs": [
    {
     "name": "stdout",
     "output_type": "stream",
     "text": [
      "\r\n",
      "\u001b[31m\u001b[1mOperations in the Queue:\u001b[0m\r\n",
      "\u001b[31m\u001b[1m========================\u001b[0m\r\n",
      "- \u001b[34mMerging all known variables\u001b[0m\r\n",
      "- \u001b[34mdata_01\u001b[0m : Merging 9 datasets\r\n",
      "- \u001b[34mTemplate for merge\u001b[0m : /gss_efgw_work/work/g2ssmee/jetto/runs/duqduq_long/data_01/run_0000/imasdb/aug/36982/2\r\n",
      "- \u001b[32mMerging to\u001b[0m : /afs/eufus.eu/user/g/g2ssmee/jetto_runs/duqduq_long/data_01/imasdb/aug/36982/2\r\n",
      "- \u001b[34mdata_02\u001b[0m : Merging 9 datasets\r\n",
      "- \u001b[34mTemplate for merge\u001b[0m : /gss_efgw_work/work/g2ssmee/jetto/runs/duqduq_long/data_02/run_0000/imasdb/jet/75225/2\r\n",
      "- \u001b[32mMerging to\u001b[0m : /afs/eufus.eu/user/g/g2ssmee/jetto_runs/duqduq_long/data_02/imasdb/jet/75225/2\r\n",
      "- \u001b[34mdata_03\u001b[0m : Merging 9 datasets\r\n",
      "- \u001b[34mTemplate for merge\u001b[0m : /gss_efgw_work/work/g2ssmee/jetto/runs/duqduq_long/data_03/run_0000/imasdb/jet/90350/2\r\n",
      "- \u001b[32mMerging to\u001b[0m : /afs/eufus.eu/user/g/g2ssmee/jetto_runs/duqduq_long/data_03/imasdb/jet/90350/2\r\n",
      "- \u001b[34mdata_04\u001b[0m : Merging 6 datasets\r\n",
      "- \u001b[34mTemplate for merge\u001b[0m : /gss_efgw_work/work/g2ssmee/jetto/runs/duqduq_long/data_04/run_0000/imasdb/jet/92432/2\r\n",
      "- \u001b[32mMerging to\u001b[0m : /afs/eufus.eu/user/g/g2ssmee/jetto_runs/duqduq_long/data_04/imasdb/jet/92432/2\r\n",
      "- \u001b[34mdata_05\u001b[0m : Merging 6 datasets\r\n",
      "- \u001b[34mTemplate for merge\u001b[0m : /gss_efgw_work/work/g2ssmee/jetto/runs/duqduq_long/data_05/run_0002/imasdb/jet/94875/2\r\n",
      "- \u001b[32mMerging to\u001b[0m : /afs/eufus.eu/user/g/g2ssmee/jetto_runs/duqduq_long/data_05/imasdb/jet/94875/2\r\n",
      "- \u001b[34mdata_07\u001b[0m : Merging 9 datasets\r\n",
      "- \u001b[34mTemplate for merge\u001b[0m : /gss_efgw_work/work/g2ssmee/jetto/runs/duqduq_long/data_07/run_0000/imasdb/west/54568/2\r\n",
      "- \u001b[32mMerging to\u001b[0m : /afs/eufus.eu/user/g/g2ssmee/jetto_runs/duqduq_long/data_07/imasdb/west/54568/2\r\n",
      "- \u001b[34mdata_08\u001b[0m : Merging 6 datasets\r\n",
      "- \u001b[34mTemplate for merge\u001b[0m : /gss_efgw_work/work/g2ssmee/jetto/runs/duqduq_long/data_08/run_0000/imasdb/west/54728/2\r\n",
      "- \u001b[32mMerging to\u001b[0m : /afs/eufus.eu/user/g/g2ssmee/jetto_runs/duqduq_long/data_08/imasdb/west/54728/2\r\n",
      "- \u001b[34mdata_09\u001b[0m : Merging 9 datasets\r\n",
      "- \u001b[34mTemplate for merge\u001b[0m : /gss_efgw_work/work/g2ssmee/jetto/runs/duqduq_long/data_09/run_0000/imasdb/west/55181/2\r\n",
      "- \u001b[32mMerging to\u001b[0m : /afs/eufus.eu/user/g/g2ssmee/jetto_runs/duqduq_long/data_09/imasdb/west/55181/2\r\n",
      "- \u001b[34mdata_10\u001b[0m : Merging 9 datasets\r\n",
      "- \u001b[34mTemplate for merge\u001b[0m : /gss_efgw_work/work/g2ssmee/jetto/runs/duqduq_long/data_10/run_0000/imasdb/west/55525/2\r\n",
      "- \u001b[32mMerging to\u001b[0m : /afs/eufus.eu/user/g/g2ssmee/jetto_runs/duqduq_long/data_10/imasdb/west/55525/2\r\n",
      "- \u001b[32mWriting csv\u001b[0m : merge_data.csv\r\n",
      "Dry run enabled, not applying op_queue\r\n"
     ]
    }
   ],
   "source": [
    "os.chdir(duqtools_dir_done)\n",
    "!duqduq merge --force --dry-run"
   ]
  },
  {
   "cell_type": "markdown",
   "id": "0f7b083a",
   "metadata": {},
   "source": [
    "Merged data are stored in in a local imasdb for each data entry in the run directory."
   ]
  },
  {
   "cell_type": "code",
   "execution_count": 14,
   "id": "6d1e81dc",
   "metadata": {},
   "outputs": [
    {
     "name": "stdout",
     "output_type": "stream",
     "text": [
      "data_01/imasdb\r\n",
      "└── aug\r\n",
      "    └── 3\r\n",
      "        └── 0\r\n",
      "            ├── ids_369820002.characteristics\r\n",
      "            ├── ids_369820002.datafile\r\n",
      "            └── ids_369820002.tree\r\n",
      "\r\n",
      "3 directories, 3 files\r\n"
     ]
    }
   ],
   "source": [
    "os.chdir(run_dir)\n",
    "!tree 'data_01/imasdb'"
   ]
  },
  {
   "cell_type": "markdown",
   "id": "6d38ad28",
   "metadata": {},
   "source": [
    "## Data exploration with `duqtools dash`\n",
    "\n",
    "The imas handles for each merged data set are stored in `merge_data.csv`. They can be visualized using the duqtools dashboard.\n"
   ]
  },
  {
   "cell_type": "code",
   "execution_count": 15,
   "id": "7a138f02",
   "metadata": {},
   "outputs": [
    {
     "name": "stdout",
     "output_type": "stream",
     "text": [
      "\u001b[0m\n",
      "\u001b[34m\u001b[1m  You can now view your Streamlit app in your browser.\u001b[0m\n",
      "\u001b[0m\n",
      "\u001b[34m  Local URL: \u001b[0m\u001b[1mhttp://localhost:8501\u001b[0m\n",
      "\u001b[34m  Network URL: \u001b[0m\u001b[1mhttp://130.186.25.54:8501\u001b[0m\n",
      "\u001b[0m\n",
      "^C\n",
      "\u001b[34m  Stopping...\u001b[0m\n"
     ]
    }
   ],
   "source": [
    "os.chdir(duqtools_dir_done)\n",
    "!duqtools dash"
   ]
  },
  {
   "cell_type": "code",
   "execution_count": null,
   "id": "70c11ea6",
   "metadata": {},
   "outputs": [],
   "source": []
  }
 ],
 "metadata": {
  "kernelspec": {
   "display_name": ".venv",
   "language": "python",
   "name": ".venv"
  },
  "language_info": {
   "codemirror_mode": {
    "name": "ipython",
    "version": 3
   },
   "file_extension": ".py",
   "mimetype": "text/x-python",
   "name": "python",
   "nbconvert_exporter": "python",
   "pygments_lexer": "ipython3",
   "version": "3.10.2"
  }
 },
 "nbformat": 4,
 "nbformat_minor": 5
}
