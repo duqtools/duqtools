{
 "cells": [
  {
   "cell_type": "code",
   "execution_count": 1,
   "id": "97d8f83d-ea4a-481a-9bee-45f3f56d6bac",
   "metadata": {},
   "outputs": [],
   "source": [
    "import atexit\n",
    "import os\n",
    "import shutil\n",
    "import stat\n",
    "\n",
    "import docker"
   ]
  },
  {
   "cell_type": "markdown",
   "id": "27cc4015-a40a-48b1-b347-22edf81d4023",
   "metadata": {},
   "source": [
    "# Running duqtools with prominence\n",
    "\n",
    "This Tutorial uses docker to create runs, and prominence to submit runs with duqtools"
   ]
  },
  {
   "cell_type": "markdown",
   "id": "6a4cc44f-0359-4e9d-9835-69a29e4a08c9",
   "metadata": {
    "tags": []
   },
   "source": [
    "## Getting started\n",
    "\n",
    "### Needed Packages\n",
    "\n",
    "- The first thing we need is to install duqtools, if you haven't done this yet you can install it via `pip install duqtools`\n",
    "- We will also need access to the source of duqtools, it can be downloaded from https://github.com/duqtools/duqtools, This notebook was created with version `1.5.0` of duqtools\n",
    "- docker\n",
    "    - We also need access to the following images (or equivalent): `jintrac-imas`. which can be found here https://gitlab.eufus.psnc.pl/containerization/jintrac/jintrac-imas-installer\n",
    "- prominence, and we need to be logged in\n",
    "\n",
    "### Some example data\n",
    "\n",
    "In this tutorial we will use example data, as IMAS is non-free you will have to get your IMAS data through your preferred supplier. We assume that the system is run with JINTRAC (since JINTRAC has a docker container available), and we use a simple JINTRAC template, which you are of course free to substitute for your own\n"
   ]
  },
  {
   "cell_type": "code",
   "execution_count": 2,
   "id": "43b7df6e-c604-4afc-8b47-790269c38685",
   "metadata": {},
   "outputs": [],
   "source": [
    "shutil.rmtree('./example', ignore_errors=True)\n",
    "os.mkdir('example')\n",
    "# We assume that the duqtools source is available and that we are in the docs/examples folder\n",
    "shutil.copytree('../../tests/test_data/template_model', 'example/template');"
   ]
  },
  {
   "cell_type": "code",
   "execution_count": 3,
   "id": "cca22504-8102-4ad7-9c9d-03693225870b",
   "metadata": {},
   "outputs": [],
   "source": [
    "# Some imas data, substitute with your own, as we are not allowed to provide it\n",
    "shutil.copytree('../../../containerized_runs/imasdb', 'example/imasdb');"
   ]
  },
  {
   "cell_type": "code",
   "execution_count": 4,
   "id": "c31f7f56-7890-4eaf-8616-53f6fc1ae47f",
   "metadata": {},
   "outputs": [],
   "source": [
    "# A silly script to support venvs\n",
    "with open(\"example/entry.sh\", \"w\") as f:\n",
    "    f.write(\"\"\"#!/bin/bash\n",
    "set -e\n",
    ". /etc/profile.d/modules.sh\n",
    "module load IMAS\n",
    "module load fc2k\n",
    "\n",
    "if [ -d .venv ]; then\n",
    " . .venv/bin/activate\n",
    "fi\n",
    "\n",
    "exec \"${@}\"\n",
    "\"\"\")\n",
    "\n",
    "st = os.stat('example/entry.sh')\n",
    "os.chmod('example/entry.sh', st.st_mode | stat.S_IEXEC)\n",
    "!chmod +x example/entry.sh"
   ]
  },
  {
   "cell_type": "code",
   "execution_count": 5,
   "id": "9b8b4694-1a11-405a-a67b-fcf88b73b173",
   "metadata": {},
   "outputs": [],
   "source": [
    "# A simple configuration file for duqtools\n",
    "with open(\"example/duqtools.yaml\", \"w\") as f:\n",
    "    f.write(\"\"\"system:\n",
    "  name: jetto\n",
    "create:\n",
    "  template: ./template #TODO edit to directory where initial run is stored\n",
    "  template_data:\n",
    "    user: \"/example/imasdb\"\n",
    "    db: \"jet\"\n",
    "    shot: 123\n",
    "    run: 1\n",
    "  dimensions:\n",
    "  - operator: multiply\n",
    "    scale_to_error: false\n",
    "    values: [1.1, 1.2, 1.3]\n",
    "    variable: t_e\n",
    "  - operator: multiply\n",
    "    scale_to_error: false\n",
    "    values: [1.1, 1.2, 1.3]\n",
    "    variable: zeff\n",
    "  sampler:\n",
    "    method: latin-hypercube\n",
    "    n_samples: 3\n",
    "submit:\n",
    "  submit_system: prominence\n",
    "\"\"\")"
   ]
  },
  {
   "cell_type": "code",
   "execution_count": 6,
   "id": "0ae5b521-4411-43cb-bbb1-3aefa6b38bd9",
   "metadata": {},
   "outputs": [
    {
     "name": "stdout",
     "output_type": "stream",
     "text": [
      "\u001b[01;34mexample\u001b[0m\n",
      "├── duqtools.yaml\n",
      "├── \u001b[01;32mentry.sh\u001b[0m\n",
      "├── \u001b[01;34mimasdb\u001b[0m\n",
      "│   └── \u001b[01;34mjet\u001b[0m\n",
      "│       └── \u001b[01;34m3\u001b[0m\n",
      "│           └── \u001b[01;34m0\u001b[0m\n",
      "│               ├── ids_1230001.characteristics\n",
      "│               ├── ids_1230001.datafile\n",
      "│               └── ids_1230001.tree\n",
      "└── \u001b[01;34mtemplate\u001b[0m\n",
      "    ├── jetto.eqrestart\n",
      "    ├── jetto.ex\n",
      "    ├── jetto.in\n",
      "    ├── jetto.jset\n",
      "    ├── jetto.sgrid\n",
      "    ├── jetto.sin\n",
      "    ├── jintrac_imas_config.cfg\n",
      "    ├── \u001b[01;32mrjettov\u001b[0m\n",
      "    └── \u001b[01;32mutils_jetto\u001b[0m\n",
      "\n",
      "5 directories, 14 files\n"
     ]
    }
   ],
   "source": [
    "!tree example #Its okay if this fails if you don't have tree installed"
   ]
  },
  {
   "cell_type": "code",
   "execution_count": 7,
   "id": "75833eb6-1464-453b-99ec-d03a642868b3",
   "metadata": {},
   "outputs": [
    {
     "name": "stdout",
     "output_type": "stream",
     "text": [
      "Authenticating with existing credentials...\n",
      "WARNING! Your password will be stored unencrypted in /home/vikko/.docker/config.json.\n",
      "Configure a credential helper to remove this warning. See\n",
      "https://docs.docker.com/engine/reference/commandline/login/#credentials-store\n",
      "\n",
      "Login Succeeded\n",
      "latest: Pulling from containerization/jintrac/jintrac-imas-installer/jintrac-imas\n",
      "Digest: sha256:1b99ea457ba42bdd6809ef0069bf444ac2f8c3a1013ae9fe596da6f15987d584\n",
      "Status: Image is up to date for gitlab.eufus.psnc.pl:5050/containerization/jintrac/jintrac-imas-installer/jintrac-imas:latest\n",
      "gitlab.eufus.psnc.pl:5050/containerization/jintrac/jintrac-imas-installer/jintrac-imas:latest\n"
     ]
    }
   ],
   "source": [
    "# Get the image and tag it, we could use a imas-only image for prominence\n",
    "!docker login gitlab.eufus.psnc.pl:5050\n",
    "!docker pull gitlab.eufus.psnc.pl:5050/containerization/jintrac/jintrac-imas-installer/jintrac-imas:latest\n",
    "!docker tag gitlab.eufus.psnc.pl:5050/containerization/jintrac/jintrac-imas-installer/jintrac-imas:latest jintrac-imas:pulled"
   ]
  },
  {
   "cell_type": "code",
   "execution_count": 8,
   "id": "5ee5e4e0-c04c-49f5-b92c-41d6559725dd",
   "metadata": {},
   "outputs": [],
   "source": [
    "def niceprint(s):\n",
    "    return print(str(s.output, 'utf-8'))\n",
    "\n",
    "\n",
    "def run_inside(container, cmd):\n",
    "    return container.exec_run(' '.join(['/example/entry.sh', cmd]))"
   ]
  },
  {
   "cell_type": "code",
   "execution_count": 9,
   "id": "f9b353a8-db66-4e4e-9316-428cb69fe257",
   "metadata": {},
   "outputs": [],
   "source": [
    "# clean up existing container\n",
    "try:\n",
    "    container.stop(timeout=0)\n",
    "except:\n",
    "    pass\n",
    "\n",
    "client = docker.from_env()\n",
    "container = client.containers.run('jintrac-imas:latest',\n",
    "                                  working_dir=\"/example\",\n",
    "                                  user=os.getuid(),\n",
    "                                  detach=True,\n",
    "                                  entrypoint=\"/example/entry.sh\",\n",
    "                                  command=\"tail -f /dev/null\",\n",
    "                                  volumes=[os.getcwd() + \"/example:/example\"],\n",
    "                                  auto_remove=True)\n",
    "atexit.register(lambda: container.stop(timeout=0));"
   ]
  },
  {
   "cell_type": "code",
   "execution_count": 10,
   "id": "da1c3bfe-1de4-42ec-97d5-3f38f7d9fe1f",
   "metadata": {},
   "outputs": [],
   "source": [
    "run_inside(container, 'python3 -m venv .venv');"
   ]
  },
  {
   "cell_type": "code",
   "execution_count": 11,
   "id": "ee17e7c6-8977-4950-810d-98f10e68a9b0",
   "metadata": {},
   "outputs": [
    {
     "name": "stdout",
     "output_type": "stream",
     "text": [
      "WARNING: You are using pip version 20.2.4; however, version 23.0.1 is available.\n",
      "You should consider upgrading via the '/example/.venv/bin/python3 -m pip install --upgrade pip' command.\n",
      "\n"
     ]
    }
   ],
   "source": [
    "niceprint(run_inside(container, 'python3 -m pip install duqtools -q'))"
   ]
  },
  {
   "cell_type": "code",
   "execution_count": 12,
   "id": "d35bb6a6-56d1-485a-9d7c-2b636f926665",
   "metadata": {},
   "outputs": [
    {
     "name": "stdout",
     "output_type": "stream",
     "text": [
      "\u001b[33m14:57:19 [WARNING] Python module 'omas' not found. Submodule 'jams' needs it @jams.py:14\u001b[0m\n",
      "\u001b[33m14:57:19 [WARNING] Python module 'netCDF4' not found. Submodule 'transp' needs it @transp.py:25\u001b[0m\n",
      "\u001b[33m14:57:19 [WARNING] Python module 'tkinter' not found. Submodule 'tkinter_helpers' needs it @tkinter_helpers.py:16\u001b[0m\n",
      "\n",
      "\u001b[31m\u001b[1mOperations in the Queue:\u001b[0m\n",
      "\u001b[31m\u001b[1m========================\u001b[0m\n",
      "- \u001b[32mCreating run\u001b[0m : /example/run_0000\n",
      "- \u001b[32mCreating run\u001b[0m : /example/run_0001\n",
      "- \u001b[32mCreating run\u001b[0m : /example/run_0002\n",
      "\u001b[31m\u001b[1mApplying Operations\u001b[0m\n",
      "21\n",
      "\n",
      "  0%|          | 0/21 [00:00<?, ?it/s]\u001b[A\n",
      "\u001b[32mCreating run\u001b[0m : /example/run_0000: it/s]\u001b[A\n",
      "Progress:  10%|▉         | 2/21 [00:00<00:04,  4.48it/s]\u001b[A\n",
      "\u001b[32mCreating run\u001b[0m : /example/run_0001: 1, 10.42it/s]\u001b[A\n",
      "Progress:  38%|███▊      | 8/21 [00:00<00:01,  9.40it/s]\u001b[A\n",
      "\u001b[32mCreating run\u001b[0m : /example/run_0002: 00, 12.96it/s]\u001b[A\n",
      "Progress:  67%|██████▋   | 14/21 [00:01<00:00, 10.92it/s]\u001b[A\n",
      "\u001b[32mCreating run\u001b[0m : /example/run_0002: 00, 11.06it/s]\u001b[A\n",
      "Progress: 100%|██████████| 21/21 [00:01<00:00, 13.01it/s]\n",
      "\n"
     ]
    }
   ],
   "source": [
    "niceprint(run_inside(container, 'duqtools create --force --yes'))"
   ]
  },
  {
   "cell_type": "code",
   "execution_count": 13,
   "id": "ef6637a5-8e0d-4858-b6d2-ae2348dec789",
   "metadata": {},
   "outputs": [],
   "source": [
    "#!cd example && duqtools submit --force --yes"
   ]
  },
  {
   "cell_type": "code",
   "execution_count": null,
   "id": "c7605f68-5d80-4f92-b6a8-f3172de154e0",
   "metadata": {},
   "outputs": [],
   "source": []
  }
 ],
 "metadata": {
  "kernelspec": {
   "display_name": "Python 3 (ipykernel)",
   "language": "python",
   "name": "python3"
  },
  "language_info": {
   "codemirror_mode": {
    "name": "ipython",
    "version": 3
   },
   "file_extension": ".py",
   "mimetype": "text/x-python",
   "name": "python",
   "nbconvert_exporter": "python",
   "pygments_lexer": "ipython3",
   "version": "3.10.9"
  }
 },
 "nbformat": 4,
 "nbformat_minor": 5
}
