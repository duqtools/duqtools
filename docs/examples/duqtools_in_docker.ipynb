{
 "cells": [
  {
   "cell_type": "markdown",
   "id": "27cc4015-a40a-48b1-b347-22edf81d4023",
   "metadata": {},
   "source": [
    "# Running duqtools with docker containers\n",
    "\n",
    "This Tutorial uses docker to create and submit runs which will be analyzed with duqtools. \n",
    "This notebook uses the `bash_kernel` which can be installed via pip: https://github.com/takluyver/bash_kernel\n"
   ]
  },
  {
   "cell_type": "markdown",
   "id": "6a4cc44f-0359-4e9d-9835-69a29e4a08c9",
   "metadata": {
    "tags": []
   },
   "source": [
    "## Getting started\n",
    "\n",
    "### Needed Packages\n",
    "\n",
    "- The first thing we need is to install duqtools, if you haven't done this yet you can install it via `pip install duqtools`\n",
    "- We will also need access to the source of duqtools, it can be downloaded from https://github.com/duqtools/duqtools, This notebook was created with version `1.5.0` of duqtools\n",
    "- docker\n",
    "    - We also need access to the following images (or equivalent): `jintrac-imas`. which can be found here https://gitlab.eufus.psnc.pl/containerization/jintrac/jintrac-imas-installer\n",
    "- etc...\n",
    "\n",
    "### Some example data\n",
    "\n",
    "In this tutorial we will use example data, as IMAS is non-free you will have to get your IMAS data through your preferred supplier. We assume that the system is run with JINTRAC (since JINTRAC has a docker container available), and we use a simple JINTRAC template, which you are of course free to substitute for your own\n"
   ]
  },
  {
   "cell_type": "code",
   "execution_count": 1,
   "id": "43b7df6e-c604-4afc-8b47-790269c38685",
   "metadata": {},
   "outputs": [],
   "source": [
    "!rm -rf example\n",
    "!mkdir -p example/template\n",
    "# We assume that the duqtools source is available and that we are in the docs/examples folder\n",
    "!cp -r ../../tests/test_data/template_model/* example/template"
   ]
  },
  {
   "cell_type": "markdown",
   "id": "739d93e4-2a58-49c7-b315-21c0168674cc",
   "metadata": {},
   "source": [
    "### Some imas data, substitute with your own, as we are not allowed to provide it"
   ]
  },
  {
   "cell_type": "code",
   "execution_count": 2,
   "id": "cca22504-8102-4ad7-9c9d-03693225870b",
   "metadata": {},
   "outputs": [],
   "source": [
    "!cp -r ../../../containerized_runs/imasdb example"
   ]
  },
  {
   "cell_type": "code",
   "execution_count": 3,
   "id": "c31f7f56-7890-4eaf-8616-53f6fc1ae47f",
   "metadata": {},
   "outputs": [],
   "source": [
    "# A silly script to support venvs\n",
    "with open(\"example/entry.sh\", \"w\") as f:\n",
    "    f.write(\"\"\"#!/bin/bash\n",
    "set -e\n",
    ". /etc/profile.d/modules.sh\n",
    "module load IMAS\n",
    "module load fc2k\n",
    "\n",
    "if [ -d .venv ]; then\n",
    " . .venv/bin/activate\n",
    "fi\n",
    "\n",
    "exec \"${@}\"\n",
    "\"\"\")\n",
    "!chmod +x example/entry.sh"
   ]
  },
  {
   "cell_type": "code",
   "execution_count": 4,
   "id": "9b8b4694-1a11-405a-a67b-fcf88b73b173",
   "metadata": {},
   "outputs": [],
   "source": [
    "# A silly script to support venvs\n",
    "with open(\"example/duqtools.yaml\", \"w\") as f:\n",
    "    f.write(\"\"\"system: jetto\n",
    "create:\n",
    "  template: ./template #TODO edit to directory where initial run is stored\n",
    "  template_data:\n",
    "    user: \"/example/imasdb\"\n",
    "    db: \"jet\"\n",
    "    shot: 123\n",
    "    run: 1\n",
    "  dimensions:\n",
    "  - operator: multiply\n",
    "    scale_to_error: false\n",
    "    values: [1.1, 1.2, 1.3]\n",
    "    variable: t_e\n",
    "  - operator: multiply\n",
    "    scale_to_error: false\n",
    "    values: [1.1, 1.2, 1.3]\n",
    "    variable: zeff\n",
    "  sampler:\n",
    "    method: latin-hypercube\n",
    "    n_samples: 3\n",
    "submit:\n",
    "  submit_system: docker\n",
    "\"\"\")"
   ]
  },
  {
   "cell_type": "code",
   "execution_count": 5,
   "id": "0ae5b521-4411-43cb-bbb1-3aefa6b38bd9",
   "metadata": {},
   "outputs": [
    {
     "name": "stdout",
     "output_type": "stream",
     "text": [
      "\u001b[01;34mexample\u001b[0m\n",
      "├── duqtools.yaml\n",
      "├── \u001b[01;32mentry.sh\u001b[0m\n",
      "├── \u001b[01;34mimasdb\u001b[0m\n",
      "│   └── \u001b[01;34mjet\u001b[0m\n",
      "│       └── \u001b[01;34m3\u001b[0m\n",
      "│           └── \u001b[01;34m0\u001b[0m\n",
      "│               ├── ids_1230001.characteristics\n",
      "│               ├── ids_1230001.datafile\n",
      "│               └── ids_1230001.tree\n",
      "└── \u001b[01;34mtemplate\u001b[0m\n",
      "    ├── jetto.eqrestart\n",
      "    ├── jetto.ex\n",
      "    ├── jetto.in\n",
      "    ├── jetto.jset\n",
      "    ├── jetto.sgrid\n",
      "    ├── jetto.sin\n",
      "    ├── \u001b[01;32mrjettov\u001b[0m\n",
      "    └── \u001b[01;32mutils_jetto\u001b[0m\n",
      "\n",
      "5 directories, 13 files\n"
     ]
    }
   ],
   "source": [
    "!tree example"
   ]
  },
  {
   "cell_type": "code",
   "execution_count": 6,
   "id": "d8ad225a-560a-42e4-b55a-c6a002a56421",
   "metadata": {},
   "outputs": [
    {
     "name": "stdout",
     "output_type": "stream",
     "text": [
      "Authenticating with existing credentials...\n",
      "WARNING! Your password will be stored unencrypted in /home/vikko/.docker/config.json.\n",
      "Configure a credential helper to remove this warning. See\n",
      "https://docs.docker.com/engine/reference/commandline/login/#credentials-store\n",
      "\n",
      "Login Succeeded\n",
      "latest: Pulling from containerization/jintrac/jintrac-imas-installer/jintrac-imas\n",
      "Digest: sha256:1b99ea457ba42bdd6809ef0069bf444ac2f8c3a1013ae9fe596da6f15987d584\n",
      "Status: Image is up to date for gitlab.eufus.psnc.pl:5050/containerization/jintrac/jintrac-imas-installer/jintrac-imas:latest\n",
      "gitlab.eufus.psnc.pl:5050/containerization/jintrac/jintrac-imas-installer/jintrac-imas:latest\n"
     ]
    }
   ],
   "source": [
    "# Get the image and tag it\n",
    "!docker login gitlab.eufus.psnc.pl:5050\n",
    "!docker pull gitlab.eufus.psnc.pl:5050/containerization/jintrac/jintrac-imas-installer/jintrac-imas:latest\n",
    "!docker tag gitlab.eufus.psnc.pl:5050/containerization/jintrac/jintrac-imas-installer/jintrac-imas:latest jintrac-imas:latest"
   ]
  },
  {
   "cell_type": "code",
   "execution_count": 7,
   "id": "5ee5e4e0-c04c-49f5-b92c-41d6559725dd",
   "metadata": {},
   "outputs": [],
   "source": [
    "import docker\n",
    "import os\n",
    "niceprint = lambda s: print(str(s.output,\"utf-8\"))\n",
    "run_inside = lambda container, cmd: container.exec_run(\" \".join(['/example/entry.sh',cmd]))"
   ]
  },
  {
   "cell_type": "code",
   "execution_count": 8,
   "id": "f9b353a8-db66-4e4e-9316-428cb69fe257",
   "metadata": {},
   "outputs": [],
   "source": [
    "client = docker.from_env()\n",
    "container = client.containers.run('jintrac-imas', \n",
    "                                  working_dir=\"/example\", \n",
    "                                  user=os.getuid(),\n",
    "                                  detach=True, \n",
    "                                  entrypoint=\"/example/entry.sh\",\n",
    "                                  command=\"tail -f /dev/null\",\n",
    "                                  volumes=[os.getcwd()+\"/example:/example\"],\n",
    "                                  auto_remove=True)"
   ]
  },
  {
   "cell_type": "code",
   "execution_count": 9,
   "id": "da1c3bfe-1de4-42ec-97d5-3f38f7d9fe1f",
   "metadata": {},
   "outputs": [],
   "source": [
    "run_inside(container,'python3 -m venv .venv');"
   ]
  },
  {
   "cell_type": "code",
   "execution_count": 10,
   "id": "ee17e7c6-8977-4950-810d-98f10e68a9b0",
   "metadata": {},
   "outputs": [
    {
     "name": "stdout",
     "output_type": "stream",
     "text": [
      "WARNING: The directory '/home/docker/.cache/pip' or its parent directory is not owned or is not writable by the current user. The cache has been disabled. Check the permissions and owner of that directory. If executing pip with sudo, you may want sudo's -H flag.\n",
      "WARNING: Retrying (Retry(total=4, connect=None, read=None, redirect=None, status=None)) after connection broken by 'NewConnectionError('<pip._vendor.urllib3.connection.HTTPSConnection object at 0x7fb6a46fe970>: Failed to establish a new connection: [Errno -2] Name or service not known')': /simple/duqtools/\n",
      "WARNING: You are using pip version 20.2.4; however, version 23.0.1 is available.\n",
      "You should consider upgrading via the '/example/.venv/bin/python3 -m pip install --upgrade pip' command.\n",
      "\n"
     ]
    }
   ],
   "source": [
    "niceprint(run_inside(container,'python3 -m pip install duqtools -q'))"
   ]
  },
  {
   "cell_type": "code",
   "execution_count": 11,
   "id": "d35bb6a6-56d1-485a-9d7c-2b636f926665",
   "metadata": {},
   "outputs": [
    {
     "name": "stdout",
     "output_type": "stream",
     "text": [
      "\u001b[33m15:17:16 [WARNING] Python module 'omas' not found. Submodule 'jams' needs it @jams.py:14\u001b[0m\n",
      "\u001b[33m15:17:16 [WARNING] Python module 'netCDF4' not found. Submodule 'transp' needs it @transp.py:25\u001b[0m\n",
      "\u001b[33m15:17:16 [WARNING] Python module 'tkinter' not found. Submodule 'tkinter_helpers' needs it @tkinter_helpers.py:16\u001b[0m\n",
      "\n",
      "\u001b[31m\u001b[1mOperations in the Queue:\u001b[0m\n",
      "\u001b[31m\u001b[1m========================\u001b[0m\n",
      "- \u001b[32mCreating run\u001b[0m : /example/run_0000\n",
      "- \u001b[32mCreating run\u001b[0m : /example/run_0001\n",
      "- \u001b[32mCreating run\u001b[0m : /example/run_0002\n",
      "\u001b[31m\u001b[1mApplying Operations\u001b[0m\n",
      "21\n",
      "\n",
      "  0%|          | 0/21 [00:00<?, ?it/s]\u001b[A\n",
      "\u001b[32mCreating run\u001b[0m : /example/run_0000: it/s]\u001b[A\n",
      "Progress:  10%|▉         | 2/21 [00:00<00:04,  4.20it/s]\u001b[A\n",
      "\u001b[32mCreating run\u001b[0m : /example/run_0001: 2,  7.73it/s]\u001b[A\n",
      "Progress:  38%|███▊      | 8/21 [00:00<00:01,  8.94it/s]\u001b[A\n",
      "\u001b[32mCreating run\u001b[0m : /example/run_0002: 01,  9.87it/s]\u001b[A\n",
      "Progress:  67%|██████▋   | 14/21 [00:01<00:00,  9.59it/s]\u001b[A\n",
      "\u001b[32mCreating run\u001b[0m : /example/run_0002: 00, 12.15it/s]\u001b[A\n",
      "Progress: 100%|██████████| 21/21 [00:01<00:00, 11.97it/s]\n",
      "\n"
     ]
    }
   ],
   "source": [
    "niceprint(run_inside(container,'duqtools create --force --yes')) "
   ]
  },
  {
   "cell_type": "code",
   "execution_count": 12,
   "id": "ef6637a5-8e0d-4858-b6d2-ae2348dec789",
   "metadata": {},
   "outputs": [],
   "source": [
    "#!cd example && duqtools submit --yes"
   ]
  }
 ],
 "metadata": {
  "kernelspec": {
   "display_name": "Python 3 (ipykernel)",
   "language": "python",
   "name": "python3"
  },
  "language_info": {
   "codemirror_mode": {
    "name": "ipython",
    "version": 3
   },
   "file_extension": ".py",
   "mimetype": "text/x-python",
   "name": "python",
   "nbconvert_exporter": "python",
   "pygments_lexer": "ipython3",
   "version": "3.10.9"
  }
 },
 "nbformat": 4,
 "nbformat_minor": 5
}
